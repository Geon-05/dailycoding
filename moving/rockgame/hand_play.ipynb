{
 "cells": [
  {
   "cell_type": "code",
   "execution_count": null,
   "id": "538cb00a-e17c-4f99-b0de-b774debb9f76",
   "metadata": {},
   "outputs": [],
   "source": [
    "# 실시간 예측 코드\n",
    "cap = cv2.VideoCapture(0)\n",
    "while True:\n",
    "    ret, frame = cap.read()\n",
    "    if not ret:\n",
    "        break\n",
    "\n",
    "    # 전처리 및 예측\n",
    "    image = cv2.resize(frame, (64, 64))\n",
    "    image = transforms.ToTensor()(image).unsqueeze(0)\n",
    "    with torch.no_grad():\n",
    "        output = model(image)\n",
    "        _, predicted = torch.max(output, 1)\n",
    "    \n",
    "    # 예측 결과 표시\n",
    "    if predicted == 0:\n",
    "        text = 'Rock'\n",
    "    elif predicted == 1:\n",
    "        text = 'Paper'\n",
    "    else:\n",
    "        text = 'Scissors'\n",
    "        \n",
    "    cv2.putText(frame, text, (10, 50), cv2.FONT_HERSHEY_SIMPLEX, 1, (0, 255, 0), 2)\n",
    "    cv2.imshow('Rock Paper Scissors', frame)\n",
    "    \n",
    "    if cv2.waitKey(1) & 0xFF == ord('q'):\n",
    "        break\n",
    "\n",
    "cap.release()\n",
    "cv2.destroyAllWindows()"
   ]
  }
 ],
 "metadata": {
  "kernelspec": {
   "display_name": "Python 3 (ipykernel)",
   "language": "python",
   "name": "python3"
  },
  "language_info": {
   "codemirror_mode": {
    "name": "ipython",
    "version": 3
   },
   "file_extension": ".py",
   "mimetype": "text/x-python",
   "name": "python",
   "nbconvert_exporter": "python",
   "pygments_lexer": "ipython3",
   "version": "3.9.20"
  }
 },
 "nbformat": 4,
 "nbformat_minor": 5
}
