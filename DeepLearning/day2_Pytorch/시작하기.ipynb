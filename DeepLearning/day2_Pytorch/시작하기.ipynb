{
 "cells": [
  {
   "cell_type": "markdown",
   "metadata": {},
   "source": [
    "### 딥러닝 프레임워크\n",
    "|     |텐서플로|케라스|파이토치|\n",
    "|------|------|------|------|\n",
    "|row1||||\n",
    "|row2||||\n",
    "\n",
    "### PyTorch란?\n",
    "PyTorch는 신경망 구축에 사용되는 소프트웨어 기반 오픈 소스 딥 러닝 프레임워크로, Torch의 머신 러닝 라이브러리와 Python 기반의 고급 API를 결합한 것입니다. 유연성과 사용 편의성 등의 이점 덕분에 학계 및 연구 커뮤니티를 위한 최고의 머신 러닝 프레임워크로 자리잡았습니다.\n"
   ]
  },
  {
   "cell_type": "markdown",
   "metadata": {},
   "source": []
  }
 ],
 "metadata": {
  "language_info": {
   "name": "python"
  }
 },
 "nbformat": 4,
 "nbformat_minor": 2
}
