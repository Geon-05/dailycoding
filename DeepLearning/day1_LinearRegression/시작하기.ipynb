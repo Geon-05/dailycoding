{
 "cells": [
  {
   "cell_type": "markdown",
   "metadata": {},
   "source": [
    "|     |Supervised Learning|Unsupervised Learning|Reinforcement Learning|\n",
    "|------|------|------|------|\n",
    "|Discrete|Classification|Clustering|Discrete Action Space Agent|\n",
    "|Continuous|Regression|Dimensionality Reduction|Continuous Action Space Agent|"
   ]
  },
  {
   "cell_type": "markdown",
   "metadata": {},
   "source": [
    "- 지도 학습 (Supervised Learning)  \n",
    "분류 (Classification)와 회귀 (Regression) 문제로 나뉩니다.\n",
    "- 비지도 학습 (Unsupervised Learning)  \n",
    "군집화 (Clustering)와 차원 축소 (Dimensionality Reduction) 문제를 포함합니다.\n",
    "- 강화 학습 (Reinforcement Learning)  \n",
    "이산 행동 공간 에이전트 (Discrete Action Space Agent)와 연속 행동 공간 에이전트 (Continuous Action Space Agent)로 구분됩니다.\n",
    "- 반지도 학습 (Semi-Supervised Learning)  \n",
    "지도 학습과 비지도 학습의 혼합 형태입니다."
   ]
  },
  {
   "cell_type": "markdown",
   "metadata": {},
   "source": []
  }
 ],
 "metadata": {
  "language_info": {
   "name": "python"
  }
 },
 "nbformat": 4,
 "nbformat_minor": 2
}
