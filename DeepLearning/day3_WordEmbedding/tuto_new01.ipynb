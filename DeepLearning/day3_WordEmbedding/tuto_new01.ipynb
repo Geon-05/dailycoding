{
 "cells": [
  {
   "cell_type": "code",
   "execution_count": 7,
   "metadata": {},
   "outputs": [],
   "source": [
    "import numpy as np\n",
    "from collections import Counter\n",
    "import gensim"
   ]
  },
  {
   "cell_type": "code",
   "execution_count": 8,
   "metadata": {},
   "outputs": [],
   "source": [
    "sentences = ['nice great best amazing', 'stop lies', 'pitiful nerd', 'excellent work', 'supreme quality', 'bad', 'highly respectable']\n",
    "y_train = [1, 0, 0, 1, 1, 0, 1]"
   ]
  },
  {
   "cell_type": "code",
   "execution_count": 9,
   "metadata": {},
   "outputs": [
    {
     "name": "stdout",
     "output_type": "stream",
     "text": [
      "단어 토큰화 된 결과 : [['nice', 'great', 'best', 'amazing'], ['stop', 'lies'], ['pitiful', 'nerd'], ['excellent', 'work'], ['supreme', 'quality'], ['bad'], ['highly', 'respectable']]\n"
     ]
    }
   ],
   "source": [
    "tokenized_sentences = [sent.split() for sent in sentences]\n",
    "print('단어 토큰화 된 결과 :', tokenized_sentences)"
   ]
  },
  {
   "cell_type": "code",
   "execution_count": 10,
   "metadata": {},
   "outputs": [
    {
     "name": "stdout",
     "output_type": "stream",
     "text": [
      "총 단어수 : 15\n"
     ]
    }
   ],
   "source": [
    "word_list = []\n",
    "for sent in tokenized_sentences:\n",
    "    for word in sent:\n",
    "      word_list.append(word)\n",
    "\n",
    "word_counts = Counter(word_list)\n",
    "print('총 단어수 :', len(word_counts))"
   ]
  },
  {
   "cell_type": "code",
   "execution_count": 34,
   "metadata": {},
   "outputs": [
    {
     "name": "stdout",
     "output_type": "stream",
     "text": [
      "['nice', 'great', 'best', 'amazing', 'stop', 'lies', 'pitiful', 'nerd', 'excellent', 'work', 'supreme', 'quality', 'bad', 'highly', 'respectable']\n"
     ]
    }
   ],
   "source": [
    "# 등장 빈도순으로 정렬\n",
    "vocab = sorted(word_counts, key=word_counts.get, reverse=True)\n",
    "print(vocab)"
   ]
  },
  {
   "cell_type": "code",
   "execution_count": 35,
   "metadata": {},
   "outputs": [
    {
     "name": "stdout",
     "output_type": "stream",
     "text": [
      "패딩 토큰, UNK 토큰을 고려한 단어 집합의 크기 : 17\n"
     ]
    }
   ],
   "source": [
    "word_to_index = {}\n",
    "word_to_index['<PAD>'] = 0\n",
    "word_to_index['<UNK>'] = 1\n",
    "\n",
    "for index, word in enumerate(vocab) :\n",
    "  word_to_index[word] = index + 2\n",
    "\n",
    "vocab_size = len(word_to_index)\n",
    "print('패딩 토큰, UNK 토큰을 고려한 단어 집합의 크기 :', vocab_size)"
   ]
  },
  {
   "cell_type": "code",
   "execution_count": 7,
   "metadata": {},
   "outputs": [
    {
     "name": "stdout",
     "output_type": "stream",
     "text": [
      "{'<PAD>': 0, '<UNK>': 1, 'nice': 2, 'great': 3, 'best': 4, 'amazing': 5, 'stop': 6, 'lies': 7, 'pitiful': 8, 'nerd': 9, 'excellent': 10, 'work': 11, 'supreme': 12, 'quality': 13, 'bad': 14, 'highly': 15, 'respectable': 16}\n"
     ]
    }
   ],
   "source": [
    "print(word_to_index)"
   ]
  },
  {
   "cell_type": "code",
   "execution_count": 8,
   "metadata": {},
   "outputs": [
    {
     "name": "stdout",
     "output_type": "stream",
     "text": [
      "[[2, 3, 4, 5], [6, 7], [8, 9], [10, 11], [12, 13], [14], [15, 16]]\n"
     ]
    }
   ],
   "source": [
    "def texts_to_sequences(tokenized_X_data, word_to_index):\n",
    "  encoded_X_data = []\n",
    "  for sent in tokenized_X_data:\n",
    "    index_sequences = []\n",
    "    for word in sent:\n",
    "      try:\n",
    "          index_sequences.append(word_to_index[word])\n",
    "      except KeyError:\n",
    "          index_sequences.append(word_to_index['<UNK>'])\n",
    "    encoded_X_data.append(index_sequences)\n",
    "  return encoded_X_data\n",
    "\n",
    "X_encoded = texts_to_sequences(tokenized_sentences, word_to_index)\n",
    "print(X_encoded)"
   ]
  },
  {
   "cell_type": "code",
   "execution_count": 9,
   "metadata": {},
   "outputs": [
    {
     "name": "stdout",
     "output_type": "stream",
     "text": [
      "최대 길이 : 4\n"
     ]
    }
   ],
   "source": [
    "max_len = max(len(l) for l in X_encoded)\n",
    "print('최대 길이 :',max_len)"
   ]
  },
  {
   "cell_type": "code",
   "execution_count": 19,
   "metadata": {},
   "outputs": [
    {
     "name": "stdout",
     "output_type": "stream",
     "text": [
      "패딩 결과 :\n",
      "[[ 2  3  4  5]\n",
      " [ 6  7  0  0]\n",
      " [ 8  9  0  0]\n",
      " [10 11  0  0]\n",
      " [12 13  0  0]\n",
      " [14  0  0  0]\n",
      " [15 16  0  0]]\n",
      "\n",
      "[1 0 0 1 1 0 1]\n"
     ]
    }
   ],
   "source": [
    "def pad_sequences(sentences, max_len):\n",
    "  features = np.zeros((len(sentences), max_len), dtype=int)\n",
    "  for index, sentence in enumerate(sentences):\n",
    "    if len(sentence) != 0:\n",
    "      features[index, :len(sentence)] = np.array(sentence)[:max_len]\n",
    "  return features\n",
    "\n",
    "X_train = pad_sequences(X_encoded, max_len=max_len)\n",
    "y_train = np.array(y_train)\n",
    "print('패딩 결과 :')\n",
    "print(X_train)\n",
    "print()\n",
    "print(y_train)"
   ]
  },
  {
   "cell_type": "code",
   "execution_count": 11,
   "metadata": {},
   "outputs": [],
   "source": [
    "import torch\n",
    "import torch.nn as nn\n",
    "from torch.optim import Adam\n",
    "from torch.utils.data import DataLoader, TensorDataset"
   ]
  },
  {
   "cell_type": "code",
   "execution_count": 12,
   "metadata": {},
   "outputs": [],
   "source": [
    "class SimpleModel(nn.Module):\n",
    "    def __init__(self, vocab_size, embedding_dim):\n",
    "        super(SimpleModel, self).__init__()\n",
    "        self.embedding = nn.Embedding(vocab_size, embedding_dim)\n",
    "        self.flatten = nn.Flatten()\n",
    "        self.fc = nn.Linear(embedding_dim * max_len, 1)\n",
    "        self.sigmoid = nn.Sigmoid()\n",
    "\n",
    "    def forward(self, x):\n",
    "        # embedded.shape == (배치 크기, 문장의 길이, 임베딩 벡터의 차원)\n",
    "        embedded = self.embedding(x)\n",
    "\n",
    "        # flattend.shape == (배치 크기, 문장의 길이 × 임베딩 벡터의 차원)\n",
    "        flattened = self.flatten(embedded)\n",
    "\n",
    "        # output.shape == (배치 크기, 1)\n",
    "        output = self.fc(flattened)\n",
    "        return self.sigmoid(output)"
   ]
  },
  {
   "cell_type": "code",
   "execution_count": 13,
   "metadata": {},
   "outputs": [],
   "source": [
    "device = torch.device('cuda' if torch.cuda.is_available() else 'cpu')\n",
    "\n",
    "embedding_dim = 100\n",
    "simple_model = SimpleModel(vocab_size, embedding_dim).to(device)"
   ]
  },
  {
   "cell_type": "code",
   "execution_count": 14,
   "metadata": {},
   "outputs": [],
   "source": [
    "criterion = nn.BCELoss()\n",
    "optimizer = Adam(simple_model.parameters())"
   ]
  },
  {
   "cell_type": "code",
   "execution_count": 39,
   "metadata": {},
   "outputs": [],
   "source": [
    "train_dataset = TensorDataset(torch.tensor(X_train, dtype=torch.long), torch.tensor(y_train, dtype=torch.float32))\n",
    "train_dataloader = DataLoader(train_dataset, batch_size=2)"
   ]
  },
  {
   "cell_type": "code",
   "execution_count": 40,
   "metadata": {},
   "outputs": [
    {
     "name": "stdout",
     "output_type": "stream",
     "text": [
      "4\n"
     ]
    }
   ],
   "source": [
    "print(len(train_dataloader))"
   ]
  },
  {
   "cell_type": "code",
   "execution_count": 41,
   "metadata": {},
   "outputs": [
    {
     "name": "stdout",
     "output_type": "stream",
     "text": [
      "Epoch 1, Loss: 0.16285057365894318\n",
      "Epoch 2, Loss: 0.1522267907857895\n",
      "Epoch 3, Loss: 0.14077956974506378\n",
      "Epoch 4, Loss: 0.1289810836315155\n",
      "Epoch 5, Loss: 0.11746235191822052\n",
      "Epoch 6, Loss: 0.10674876719713211\n",
      "Epoch 7, Loss: 0.097153440117836\n",
      "Epoch 8, Loss: 0.0887819454073906\n",
      "Epoch 9, Loss: 0.08158935606479645\n",
      "Epoch 10, Loss: 0.07544486969709396\n"
     ]
    }
   ],
   "source": [
    "for epoch in range(10):\n",
    "    for inputs, targets in train_dataloader:\n",
    "        # inputs.shape == (배치 크기, 문장 길이)\n",
    "        # targets.shape == (배치 크기)\n",
    "        inputs, targets = inputs.to(device), targets.to(device)\n",
    "\n",
    "        optimizer.zero_grad()\n",
    "\n",
    "        # outputs.shape == (배치 크기)\n",
    "        outputs = simple_model(inputs).view(-1) \n",
    "\n",
    "        loss = criterion(outputs, targets)\n",
    "        loss.backward()\n",
    "\n",
    "        optimizer.step()\n",
    "\n",
    "    print(f\"Epoch {epoch+1}, Loss: {loss.item()}\")"
   ]
  },
  {
   "cell_type": "code",
   "execution_count": 42,
   "metadata": {},
   "outputs": [],
   "source": [
    "# 구글의 사전 훈련된 Word2vec 모델을 로드합니다.\n",
    "word2vec_model = gensim.models.KeyedVectors.load_word2vec_format('GoogleNews-vectors-negative300.bin.gz', binary=True) "
   ]
  },
  {
   "cell_type": "code",
   "execution_count": 43,
   "metadata": {},
   "outputs": [
    {
     "name": "stdout",
     "output_type": "stream",
     "text": [
      "임베딩 행렬의 크기 : (17, 300)\n"
     ]
    }
   ],
   "source": [
    "embedding_matrix = np.zeros((vocab_size, 300))\n",
    "print('임베딩 행렬의 크기 :', embedding_matrix.shape)"
   ]
  },
  {
   "cell_type": "code",
   "execution_count": 44,
   "metadata": {},
   "outputs": [],
   "source": [
    "def get_vector(word):\n",
    "    if word in word2vec_model:\n",
    "        return word2vec_model[word]\n",
    "    else:\n",
    "        return None"
   ]
  },
  {
   "cell_type": "code",
   "execution_count": 45,
   "metadata": {},
   "outputs": [],
   "source": [
    "# <PAD>를 위한 0번과 <UNK>를 위한 1번은 실제 단어가 아니므로 맵핑에서 제외\n",
    "for word, i in word_to_index.items():\n",
    "    if i > 2:\n",
    "      temp = get_vector(word)\n",
    "      if temp is not None:\n",
    "          embedding_matrix[i] = temp"
   ]
  },
  {
   "cell_type": "code",
   "execution_count": 61,
   "metadata": {},
   "outputs": [
    {
     "name": "stdout",
     "output_type": "stream",
     "text": [
      "[0. 0. 0. 0. 0. 0. 0. 0. 0. 0. 0. 0. 0. 0. 0. 0. 0. 0. 0. 0. 0. 0. 0. 0.\n",
      " 0. 0. 0. 0. 0. 0. 0. 0. 0. 0. 0. 0. 0. 0. 0. 0. 0. 0. 0. 0. 0. 0. 0. 0.\n",
      " 0. 0. 0. 0. 0. 0. 0. 0. 0. 0. 0. 0. 0. 0. 0. 0. 0. 0. 0. 0. 0. 0. 0. 0.\n",
      " 0. 0. 0. 0. 0. 0. 0. 0. 0. 0. 0. 0. 0. 0. 0. 0. 0. 0. 0. 0. 0. 0. 0. 0.\n",
      " 0. 0. 0. 0. 0. 0. 0. 0. 0. 0. 0. 0. 0. 0. 0. 0. 0. 0. 0. 0. 0. 0. 0. 0.\n",
      " 0. 0. 0. 0. 0. 0. 0. 0. 0. 0. 0. 0. 0. 0. 0. 0. 0. 0. 0. 0. 0. 0. 0. 0.\n",
      " 0. 0. 0. 0. 0. 0. 0. 0. 0. 0. 0. 0. 0. 0. 0. 0. 0. 0. 0. 0. 0. 0. 0. 0.\n",
      " 0. 0. 0. 0. 0. 0. 0. 0. 0. 0. 0. 0. 0. 0. 0. 0. 0. 0. 0. 0. 0. 0. 0. 0.\n",
      " 0. 0. 0. 0. 0. 0. 0. 0. 0. 0. 0. 0. 0. 0. 0. 0. 0. 0. 0. 0. 0. 0. 0. 0.\n",
      " 0. 0. 0. 0. 0. 0. 0. 0. 0. 0. 0. 0. 0. 0. 0. 0. 0. 0. 0. 0. 0. 0. 0. 0.\n",
      " 0. 0. 0. 0. 0. 0. 0. 0. 0. 0. 0. 0. 0. 0. 0. 0. 0. 0. 0. 0. 0. 0. 0. 0.\n",
      " 0. 0. 0. 0. 0. 0. 0. 0. 0. 0. 0. 0. 0. 0. 0. 0. 0. 0. 0. 0. 0. 0. 0. 0.\n",
      " 0. 0. 0. 0. 0. 0. 0. 0. 0. 0. 0. 0.]\n",
      "300\n",
      "[ 1.50390625e-01  2.85156250e-01 -2.31933594e-02  9.57031250e-02\n",
      " -2.20947266e-02  5.83496094e-02 -1.55273438e-01 -5.10253906e-02\n",
      "  1.00097656e-01  1.18255615e-03  1.64794922e-02 -1.38671875e-01\n",
      " -2.83813477e-03 -1.09252930e-02  2.70996094e-02  8.39843750e-02\n",
      "  2.94921875e-01  9.17968750e-02 -6.34765625e-02  1.07421875e-02\n",
      "  1.21093750e-01 -8.92639160e-04 -4.46777344e-02 -1.70898438e-01\n",
      "  5.46264648e-03 -7.17773438e-02 -2.26562500e-01  2.71484375e-01\n",
      " -7.29370117e-03 -1.58203125e-01  2.07519531e-02 -1.24511719e-01\n",
      "  7.17773438e-02  4.76074219e-02 -9.21630859e-03  5.63964844e-02\n",
      " -1.16210938e-01  1.45263672e-02 -1.16210938e-01  8.25195312e-02\n",
      "  3.94531250e-01 -1.69921875e-01  2.63671875e-01  1.82617188e-01\n",
      " -7.12890625e-02  1.75781250e-01 -6.07910156e-02  4.24804688e-02\n",
      "  2.26562500e-01 -3.63769531e-02  2.44140625e-01 -5.05371094e-02\n",
      "  1.12304688e-02  1.46484375e-01 -1.63085938e-01  5.24902344e-03\n",
      "  7.03125000e-02 -1.82617188e-01  1.33789062e-01 -2.36328125e-01\n",
      " -8.25195312e-02  1.84570312e-01 -4.27734375e-01 -4.33593750e-01\n",
      "  9.08203125e-02  3.95507812e-02 -4.27246094e-02 -9.82666016e-03\n",
      "  3.44238281e-02  1.80664062e-01  5.27343750e-02 -1.15966797e-02\n",
      "  1.30859375e-01  3.58886719e-02 -6.59179688e-02 -5.88378906e-02\n",
      " -2.92968750e-02  1.45263672e-02  2.85156250e-01 -1.76757812e-01\n",
      " -2.14843750e-01 -5.46875000e-02 -1.57226562e-01  2.37304688e-01\n",
      " -3.01513672e-02  1.50390625e-01  6.25000000e-02  7.27539062e-02\n",
      " -1.87988281e-02  2.75390625e-01 -6.15234375e-02 -4.27246094e-02\n",
      " -1.37695312e-01 -3.53515625e-01  8.49609375e-02 -4.76074219e-02\n",
      " -1.87988281e-02  2.67333984e-02 -1.25976562e-01 -7.93457031e-03\n",
      " -5.46875000e-02  1.68945312e-01 -8.83789062e-02 -2.26562500e-01\n",
      "  4.54101562e-02 -1.10351562e-01  1.68945312e-01  1.21093750e-01\n",
      "  1.46484375e-01 -1.41601562e-01  1.21582031e-01  4.00390625e-02\n",
      " -2.96875000e-01  7.12890625e-02  6.15234375e-02 -2.75390625e-01\n",
      " -3.00292969e-02  2.50244141e-02  1.01074219e-01  1.84570312e-01\n",
      " -1.64062500e-01  1.09863281e-01  2.57812500e-01 -1.32812500e-01\n",
      " -3.37890625e-01  1.29882812e-01  7.17773438e-02 -1.04980469e-01\n",
      " -1.33789062e-01  1.71875000e-01 -6.59179688e-02 -4.97436523e-03\n",
      "  2.37304688e-01  1.77734375e-01  1.13281250e-01  1.19628906e-01\n",
      "  1.58691406e-02  1.62109375e-01 -1.05957031e-01  9.64355469e-03\n",
      " -1.91406250e-01  2.46582031e-02 -1.06933594e-01  1.07421875e-01\n",
      " -1.52343750e-01  5.49316406e-03 -1.19140625e-01  1.67236328e-02\n",
      "  4.24804688e-02  1.13281250e-01  5.52368164e-03 -1.02539062e-01\n",
      " -1.67968750e-01  1.53320312e-01 -2.73437500e-01  5.29785156e-02\n",
      " -1.15722656e-01  8.15429688e-02 -1.64794922e-02 -1.34765625e-01\n",
      " -2.24609375e-01  1.88476562e-01  1.76757812e-01 -3.29589844e-02\n",
      "  2.91015625e-01 -1.53320312e-01 -8.44726562e-02  4.12597656e-02\n",
      " -2.06054688e-01 -7.66601562e-02 -1.22558594e-01 -2.16796875e-01\n",
      "  2.41210938e-01 -1.16699219e-01 -2.07031250e-01  1.75781250e-01\n",
      "  1.39648438e-01 -9.81445312e-02  1.59179688e-01 -7.76367188e-02\n",
      "  2.26562500e-01 -2.00195312e-01 -1.23046875e-01  2.94189453e-02\n",
      " -1.54296875e-01 -1.15722656e-01  6.10351562e-03 -1.14257812e-01\n",
      " -9.82666016e-03 -2.24609375e-02  1.25122070e-02  7.61718750e-02\n",
      " -2.26562500e-01 -1.18652344e-01 -2.00195312e-01 -1.78710938e-01\n",
      "  6.34765625e-02 -6.34765625e-02 -1.63085938e-01  1.00097656e-02\n",
      " -8.34960938e-02  3.53515625e-01  2.30468750e-01 -3.58886719e-02\n",
      "  1.27929688e-01 -7.32421875e-02 -3.55468750e-01 -6.34765625e-02\n",
      " -1.79687500e-01  1.05957031e-01  1.44653320e-02  1.22070312e-01\n",
      " -6.05468750e-02  6.68945312e-02 -3.00781250e-01  1.24023438e-01\n",
      " -2.22167969e-02  9.91210938e-02 -2.89306641e-02 -6.68945312e-02\n",
      " -3.34472656e-02  2.75390625e-01 -2.01171875e-01 -6.49414062e-02\n",
      "  2.51953125e-01 -7.66601562e-02  9.66796875e-02 -1.47460938e-01\n",
      " -1.03759766e-02  1.14746094e-01  1.42578125e-01 -2.21679688e-01\n",
      "  2.53906250e-01  1.18652344e-01 -1.32812500e-01  1.07910156e-01\n",
      "  7.78198242e-03 -4.49218750e-02  1.10351562e-01  1.42578125e-01\n",
      "  1.34765625e-01  1.40380859e-02  1.87500000e-01 -1.40625000e-01\n",
      " -1.60156250e-01  3.39355469e-02  3.61328125e-01 -3.78417969e-02\n",
      " -3.26171875e-01 -3.61328125e-02 -7.08007812e-02 -7.08007812e-02\n",
      " -1.25732422e-02  7.32421875e-02  9.22851562e-02 -1.17187500e-01\n",
      " -1.51367188e-01 -7.17773438e-02  4.85839844e-02 -1.19628906e-01\n",
      "  1.92382812e-01  1.02050781e-01  3.46679688e-02  3.67187500e-01\n",
      "  2.50000000e-01  2.29492188e-01 -1.90429688e-01 -6.93359375e-02\n",
      "  3.97949219e-02 -9.81445312e-02 -1.27563477e-02 -4.39453125e-02\n",
      "  1.33789062e-01 -1.09863281e-01 -9.17968750e-02 -8.97216797e-03\n",
      " -3.11279297e-02 -3.28125000e-01 -1.42578125e-01  3.84765625e-01\n",
      "  1.24023438e-01 -6.22558594e-02 -2.33398438e-01  7.66601562e-02\n",
      "  3.39355469e-02 -9.52148438e-02 -1.70898438e-02 -1.63574219e-02\n",
      " -1.23977661e-04 -6.59179688e-02  5.88378906e-02  5.68847656e-02\n",
      " -1.87500000e-01  1.38671875e-01 -2.27539062e-01  1.83593750e-01\n",
      " -3.34472656e-02 -2.00195312e-01 -1.12304688e-01  1.03027344e-01]\n"
     ]
    }
   ],
   "source": [
    "# <PAD>나 <UNK>의 경우는 사전 훈련된 임베딩이 들어가지 않아서 0벡터임\n",
    "print(embedding_matrix[0])\n",
    "print(len(embedding_matrix[0]))\n",
    "print(embedding_matrix[16])"
   ]
  },
  {
   "cell_type": "code",
   "execution_count": 47,
   "metadata": {},
   "outputs": [
    {
     "data": {
      "text/plain": [
       "3"
      ]
     },
     "execution_count": 47,
     "metadata": {},
     "output_type": "execute_result"
    }
   ],
   "source": [
    "word_to_index['great']"
   ]
  },
  {
   "cell_type": "code",
   "execution_count": 48,
   "metadata": {},
   "outputs": [
    {
     "data": {
      "text/plain": [
       "True"
      ]
     },
     "execution_count": 48,
     "metadata": {},
     "output_type": "execute_result"
    }
   ],
   "source": [
    "# word2vec_model에서 'great'의 임베딩 벡터\n",
    "# embedding_matrix[3]이 일치하는지 체크\n",
    "np.all(word2vec_model['great'] == embedding_matrix[3])\n"
   ]
  },
  {
   "cell_type": "code",
   "execution_count": 49,
   "metadata": {},
   "outputs": [],
   "source": [
    "class PretrainedEmbeddingModel(nn.Module):\n",
    "    def __init__(self, vocab_size, embedding_dim):\n",
    "        super(PretrainedEmbeddingModel, self).__init__()\n",
    "        self.embedding = nn.Embedding(vocab_size, embedding_dim)\n",
    "        self.embedding.weight = nn.Parameter(torch.tensor(embedding_matrix, dtype=torch.float32))\n",
    "        self.embedding.weight.requires_grad = True\n",
    "        self.flatten = nn.Flatten()\n",
    "        self.fc = nn.Linear(embedding_dim * max_len, 1)\n",
    "        self.sigmoid = nn.Sigmoid()\n",
    "\n",
    "    def forward(self, x):\n",
    "        embedded = self.embedding(x)\n",
    "        flattened = self.flatten(embedded)\n",
    "        output = self.fc(flattened)\n",
    "        return self.sigmoid(output)"
   ]
  },
  {
   "cell_type": "code",
   "execution_count": 50,
   "metadata": {},
   "outputs": [],
   "source": [
    "pretraiend_embedding_model = PretrainedEmbeddingModel(vocab_size, 300).to(device)"
   ]
  },
  {
   "cell_type": "code",
   "execution_count": 51,
   "metadata": {},
   "outputs": [],
   "source": [
    "criterion = nn.BCELoss()\n",
    "optimizer = Adam(pretraiend_embedding_model.parameters())"
   ]
  },
  {
   "cell_type": "code",
   "execution_count": 52,
   "metadata": {},
   "outputs": [],
   "source": [
    "train_dataset = TensorDataset(torch.tensor(X_train, dtype=torch.long), torch.tensor(y_train, dtype=torch.float32))\n",
    "train_dataloader = DataLoader(train_dataset, batch_size=2)"
   ]
  },
  {
   "cell_type": "code",
   "execution_count": 53,
   "metadata": {},
   "outputs": [
    {
     "name": "stdout",
     "output_type": "stream",
     "text": [
      "4\n"
     ]
    }
   ],
   "source": [
    "print(len(train_dataloader))"
   ]
  },
  {
   "cell_type": "code",
   "execution_count": 54,
   "metadata": {},
   "outputs": [
    {
     "name": "stdout",
     "output_type": "stream",
     "text": [
      "Epoch 1, Loss: 0.7009158134460449\n",
      "Epoch 2, Loss: 0.6372636556625366\n",
      "Epoch 3, Loss: 0.5740810036659241\n",
      "Epoch 4, Loss: 0.5147183537483215\n",
      "Epoch 5, Loss: 0.4600341022014618\n",
      "Epoch 6, Loss: 0.4102006256580353\n",
      "Epoch 7, Loss: 0.36512991786003113\n",
      "Epoch 8, Loss: 0.3246159255504608\n",
      "Epoch 9, Loss: 0.288390189409256\n",
      "Epoch 10, Loss: 0.25614961981773376\n"
     ]
    }
   ],
   "source": [
    "for epoch in range(10):\n",
    "    for inputs, targets in train_dataloader:\n",
    "        # inputs.shape == (배치 크기, 문장 길이)\n",
    "        # targets.shape == (배치 크기)\n",
    "        inputs, targets = inputs.to(device), targets.to(device)\n",
    "\n",
    "        optimizer.zero_grad()\n",
    "\n",
    "        # outputs.shape == (배치 크기)\n",
    "        outputs = pretraiend_embedding_model(inputs).view(-1) \n",
    "\n",
    "        loss = criterion(outputs, targets)\n",
    "        loss.backward()\n",
    "\n",
    "        optimizer.step()\n",
    "\n",
    "    print(f\"Epoch {epoch+1}, Loss: {loss.item()}\")"
   ]
  },
  {
   "cell_type": "code",
   "execution_count": null,
   "metadata": {},
   "outputs": [],
   "source": []
  }
 ],
 "metadata": {
  "kernelspec": {
   "display_name": "studypy312",
   "language": "python",
   "name": "python3"
  },
  "language_info": {
   "codemirror_mode": {
    "name": "ipython",
    "version": 3
   },
   "file_extension": ".py",
   "mimetype": "text/x-python",
   "name": "python",
   "nbconvert_exporter": "python",
   "pygments_lexer": "ipython3",
   "version": "3.12.7"
  }
 },
 "nbformat": 4,
 "nbformat_minor": 2
}
