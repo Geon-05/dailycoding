{
 "cells": [
  {
   "cell_type": "code",
   "execution_count": 1,
   "metadata": {},
   "outputs": [],
   "source": [
    "import torch\n",
    "import torch.nn as nn\n",
    "import torch.optim as optim"
   ]
  },
  {
   "cell_type": "code",
   "execution_count": 24,
   "metadata": {},
   "outputs": [
    {
     "name": "stdout",
     "output_type": "stream",
     "text": [
      "88\n"
     ]
    }
   ],
   "source": [
    "sentence = \"\"\"\n",
    "In the heart of a bustling city, where skyscrapers tower above and\n",
    "people from all walks of life converge, there exists a small, unassuming\n",
    "coffee shop that has become a beloved sanctuary for artists, writers, and\n",
    "thinkers alike; a place where time seems to slow down, and the aroma of freshly\n",
    "brewed coffee mingles with the gentle hum of conversation, inviting patrons\n",
    "to linger a little longer, lost in thought or inspiration, while outside,\n",
    "the world continues at its relentless pace, oblivious to the quiet magic brewing within.\n",
    "\"\"\"\n",
    "sentence = sentence.lower().replace(',','').replace('.','').split()\n",
    "print(len(sentence))"
   ]
  },
  {
   "cell_type": "code",
   "execution_count": 8,
   "metadata": {},
   "outputs": [
    {
     "name": "stdout",
     "output_type": "stream",
     "text": [
      "['or', 'with', 'at', 'artists', 'inviting', 'heart', 'seems', 'a', 'skyscrapers', 'from', 'outside', 'that', 'down', 'freshly', 'little', 'its', 'lost', 'aroma', 'gentle', 'tower', 'coffee', 'city', 'within', 'hum', 'brewed', 'linger', 'bustling', 'converge', 'the', 'exists', 'while', 'there', 'sanctuary', 'relentless', 'patrons', 'in', 'thinkers', 'become', 'place', 'shop', 'pace', 'oblivious', 'has', 'time', 'all', 'above', 'thought', 'writers', 'inspiration', 'unassuming', 'quiet', 'alike;', 'longer', 'slow', 'continues', 'beloved', 'and', 'to', 'walks', 'where', 'conversation', 'for', 'small', 'world', 'mingles', 'people', 'magic', 'brewing', 'life', 'of']\n"
     ]
    }
   ],
   "source": [
    "vocab = list(set(sentence))\n",
    "print(vocab)"
   ]
  },
  {
   "cell_type": "code",
   "execution_count": 18,
   "metadata": {},
   "outputs": [
    {
     "name": "stdout",
     "output_type": "stream",
     "text": [
      "{'or': 1, 'with': 2, 'at': 3, 'artists': 4, 'inviting': 5, 'heart': 6, 'seems': 7, 'a': 8, 'skyscrapers': 9, 'from': 10, 'outside': 11, 'that': 12, 'down': 13, 'freshly': 14, 'little': 15, 'its': 16, 'lost': 17, 'aroma': 18, 'gentle': 19, 'tower': 20, 'coffee': 21, 'city': 22, 'within': 23, 'hum': 24, 'brewed': 25, 'linger': 26, 'bustling': 27, 'converge': 28, 'the': 29, 'exists': 30, 'while': 31, 'there': 32, 'sanctuary': 33, 'relentless': 34, 'patrons': 35, 'in': 36, 'thinkers': 37, 'become': 38, 'place': 39, 'shop': 40, 'pace': 41, 'oblivious': 42, 'has': 43, 'time': 44, 'all': 45, 'above': 46, 'thought': 47, 'writers': 48, 'inspiration': 49, 'unassuming': 50, 'quiet': 51, 'alike;': 52, 'longer': 53, 'slow': 54, 'continues': 55, 'beloved': 56, 'and': 57, 'to': 58, 'walks': 59, 'where': 60, 'conversation': 61, 'for': 62, 'small': 63, 'world': 64, 'mingles': 65, 'people': 66, 'magic': 67, 'brewing': 68, 'life': 69, 'of': 70, '<unk>': 0}\n"
     ]
    }
   ],
   "source": [
    "word2index = {tkn: i for i, tkn in enumerate(vocab, 1)}\n",
    "word2index['<unk>']=0\n",
    "print(word2index)"
   ]
  },
  {
   "cell_type": "code",
   "execution_count": 13,
   "metadata": {},
   "outputs": [
    {
     "name": "stdout",
     "output_type": "stream",
     "text": [
      "{1: 'or', 2: 'with', 3: 'at', 4: 'artists', 5: 'inviting', 6: 'heart', 7: 'seems', 8: 'a', 9: 'skyscrapers', 10: 'from', 11: 'outside', 12: 'that', 13: 'down', 14: 'freshly', 15: 'little', 16: 'its', 17: 'lost', 18: 'aroma', 19: 'gentle', 20: 'tower', 21: 'coffee', 22: 'city', 23: 'within', 24: 'hum', 25: 'brewed', 26: 'linger', 27: 'bustling', 28: 'converge', 29: 'the', 30: 'exists', 31: 'while', 32: 'there', 33: 'sanctuary', 34: 'relentless', 35: 'patrons', 36: 'in', 37: 'thinkers', 38: 'become', 39: 'place', 40: 'shop', 41: 'pace', 42: 'oblivious', 43: 'has', 44: 'time', 45: 'all', 46: 'above', 47: 'thought', 48: 'writers', 49: 'inspiration', 50: 'unassuming', 51: 'quiet', 52: 'alike;', 53: 'longer', 54: 'slow', 55: 'continues', 56: 'beloved', 57: 'and', 58: 'to', 59: 'walks', 60: 'where', 61: 'conversation', 62: 'for', 63: 'small', 64: 'world', 65: 'mingles', 66: 'people', 67: 'magic', 68: 'brewing', 69: 'life', 70: 'of', 0: '<unk>'}\n"
     ]
    }
   ],
   "source": [
    "# 수치화된 데이터를 단어로 바꾸기 위한 사전\n",
    "index2word = {v: k for k, v in word2index.items()}\n",
    "print(index2word)"
   ]
  },
  {
   "cell_type": "code",
   "execution_count": null,
   "metadata": {},
   "outputs": [],
   "source": [
    "def build_data(sentence, word2index):\n",
    "    encoded = [word2index[token] for token in sentence]\n",
    "    input_seq, label_seq = encoded[:-1], encoded[1:]\n",
    "    input_seq = torch.LongTensor(input_seq).unsqueeze(0)\n",
    "    label_seq = torch.LongTensor(label_seq).unsqueeze(0)\n",
    "    return input_seq, label_seq"
   ]
  },
  {
   "cell_type": "code",
   "execution_count": 15,
   "metadata": {},
   "outputs": [],
   "source": [
    "X, Y = build_data(sentence, word2index)"
   ]
  },
  {
   "cell_type": "code",
   "execution_count": 16,
   "metadata": {},
   "outputs": [
    {
     "name": "stdout",
     "output_type": "stream",
     "text": [
      "tensor([[36, 29,  6, 70,  8, 27, 22, 60,  9, 20, 46, 57, 66, 10, 45, 59, 70, 69,\n",
      "         28, 32, 30,  8, 63, 50, 21, 40, 12, 43, 38,  8, 56, 33, 62,  4, 48, 57,\n",
      "         37, 52,  8, 39, 60, 44,  7, 58, 54, 13, 57, 29, 18, 70, 14, 25, 21, 65,\n",
      "          2, 29, 19, 24, 70, 61,  5, 35, 58, 26,  8, 15, 53, 17, 36, 47,  1, 49,\n",
      "         31, 11, 29, 64, 55,  3, 16, 34, 41, 42, 58, 29, 51, 67, 68]])\n",
      "tensor([[29,  6, 70,  8, 27, 22, 60,  9, 20, 46, 57, 66, 10, 45, 59, 70, 69, 28,\n",
      "         32, 30,  8, 63, 50, 21, 40, 12, 43, 38,  8, 56, 33, 62,  4, 48, 57, 37,\n",
      "         52,  8, 39, 60, 44,  7, 58, 54, 13, 57, 29, 18, 70, 14, 25, 21, 65,  2,\n",
      "         29, 19, 24, 70, 61,  5, 35, 58, 26,  8, 15, 53, 17, 36, 47,  1, 49, 31,\n",
      "         11, 29, 64, 55,  3, 16, 34, 41, 42, 58, 29, 51, 67, 68, 23]])\n"
     ]
    }
   ],
   "source": [
    "print(X)\n",
    "print(Y)"
   ]
  },
  {
   "cell_type": "code",
   "execution_count": 17,
   "metadata": {},
   "outputs": [],
   "source": [
    "class Net(nn.Module):\n",
    "    def __init__(self, vocab_size, input_size, hidden_size, batch_first=True):\n",
    "        super(Net, self).__init__()\n",
    "        self.embedding_layer = nn.Embedding(num_embeddings=vocab_size,\n",
    "                                            embedding_dim=input_size)\n",
    "        self.rnn_layer = nn.RNN(input_size, hidden_size,\n",
    "                                batch_first=batch_first)\n",
    "        self.linear = nn.Linear(hidden_size, vocab_size)\n",
    "\n",
    "    def forward(self, x):\n",
    "        output = self.embedding_layer(x)\n",
    "        output, hidden = self.rnn_layer(output)\n",
    "        output = self.linear(output)\n",
    "        return output.view(-1, output.size(2))"
   ]
  },
  {
   "cell_type": "code",
   "execution_count": 19,
   "metadata": {},
   "outputs": [],
   "source": [
    "# 하이퍼 파라미터\n",
    "vocab_size = len(word2index)\n",
    "input_size = 5\n",
    "hidden_size = 20"
   ]
  },
  {
   "cell_type": "code",
   "execution_count": 20,
   "metadata": {},
   "outputs": [],
   "source": [
    "# 모델 생성\n",
    "model = Net(vocab_size, input_size, hidden_size, batch_first=True)\n",
    "# 손실함수 정의\n",
    "loss_function = nn.CrossEntropyLoss()\n",
    "# 옵티마이저 정의\n",
    "optimizer = optim.Adam(params=model.parameters())"
   ]
  },
  {
   "cell_type": "code",
   "execution_count": 22,
   "metadata": {},
   "outputs": [
    {
     "name": "stdout",
     "output_type": "stream",
     "text": [
      "tensor([ 0.1994,  0.2172,  0.2072, -0.2253,  0.2408, -0.1371, -0.0382,  0.3264,\n",
      "        -0.0918,  0.1392,  0.2893,  0.0790,  0.1960, -0.1021,  0.1323, -0.0630,\n",
      "         0.1714, -0.1502,  0.0118,  0.1970,  0.0269,  0.2436,  0.4071, -0.1257,\n",
      "        -0.4242, -0.1067,  0.4725, -0.1001, -0.0608,  0.0518,  0.1329,  0.1972,\n",
      "         0.1119, -0.1580, -0.2784, -0.0865, -0.5795,  0.0098,  0.0572, -0.0094,\n",
      "        -0.0671,  0.2015, -0.1315,  0.0187,  0.0423,  0.0604,  0.1229, -0.1883,\n",
      "         0.3647,  0.6001,  0.1073,  0.4088,  0.6825,  0.0866, -0.0376,  0.2603,\n",
      "         0.1159, -0.1513, -0.1256,  0.0203, -0.3192, -0.1271,  0.0858, -0.1443,\n",
      "         0.1106,  0.1535, -0.0698, -0.0720, -0.0186,  0.2656, -0.0415],\n",
      "       grad_fn=<SelectBackward0>)\n",
      "87\n"
     ]
    }
   ],
   "source": [
    "# 임의로 예측해보기. 가중치는 전부 랜덤 초기화 된 상태이다.\n",
    "output = model(X)\n",
    "print(output[0])\n",
    "print(len(output))"
   ]
  },
  {
   "cell_type": "code",
   "execution_count": 25,
   "metadata": {},
   "outputs": [
    {
     "name": "stdout",
     "output_type": "stream",
     "text": [
      "torch.Size([87, 71])\n"
     ]
    }
   ],
   "source": [
    "print(output.shape)"
   ]
  },
  {
   "cell_type": "code",
   "execution_count": 26,
   "metadata": {},
   "outputs": [],
   "source": [
    "# 수치화된 데이터를 단어로 전환하는 함수\n",
    "decode = lambda y: [index2word.get(x) for x in y]"
   ]
  },
  {
   "cell_type": "markdown",
   "metadata": {},
   "source": [
    "\"\"\"\n",
    "In the heart of a bustling city, where skyscrapers tower above and\n",
    "people from all walks of life converge, there exists a small, unassuming\n",
    "coffee shop that has become a beloved sanctuary for artists, writers, and\n",
    "thinkers alike; a place where time seems to slow down, and the aroma of freshly\n",
    "brewed coffee mingles with the gentle hum of conversation, inviting patrons\n",
    "to linger a little longer, lost in thought or inspiration, while outside,\n",
    "the world continues at its relentless pace, oblivious to the quiet magic brewing within.\n",
    "\"\"\""
   ]
  },
  {
   "cell_type": "code",
   "execution_count": 30,
   "metadata": {},
   "outputs": [
    {
     "name": "stdout",
     "output_type": "stream",
     "text": [
      "[1/201] 4.286629676818848 \n",
      "Repeat alike; seems inspiration linger artists artists inspiration linger artists artists linger alike; linger alike; seems artists linger linger artists writers seems seems artists artists mingles artists inspiration seems artists artists artists coffee thinkers for artists inspiration seems linger artists artists for alike; life inspiration artists brewed inspiration seems linger linger linger artists alike; artists linger seems linger that linger the alike; seems linger that tower inspiration the alike; alike; linger inspiration linger linger artists alike; thinkers tower artists artists linger seems linger the become linger seems artists\n",
      "\n",
      "[41/201] 3.945159673690796 \n",
      "Repeat inspiration that inspiration linger artists coffee the the tower and the coffee linger all seems the inspiration the tower inspiration seems linger above coffee mingles tower inspiration become small above and coffee and the and the become the tower and the seems to the and and and coffee linger of linger coffee inspiration seems inspiration coffee linger coffee linger the with coffee linger the artists all thinkers quiet linger of inspiration the of and coffee thinkers place and relentless mingles seems and the coffee linger alike; artists\n",
      "\n",
      "[81/201] 3.445462226867676 \n",
      "Repeat inspiration heart inspiration inspiration bustling coffee the the tower above and coffee linger all become of inspiration while with inspiration heart linger above coffee magic tower inspiration become small above and coffee and and and the that of tower and the seems to the and and and coffee linger of linger coffee mingles with inspiration heart linger a linger the patrons coffee linger the little all mingles in linger a inspiration while of and coffee linger of and relentless mingles tower linger the mingles patrons a artists\n",
      "\n",
      "[121/201] 2.8672537803649902 \n",
      "Repeat inspiration heart inspiration or bustling coffee the skyscrapers tower above and people from all walks of inspiration converge there inspiration heart small above coffee mingles that has become small beloved and coffee and the and thinkers to of place where the seems to the and and and thinkers linger of linger coffee mingles with inspiration heart linger a conversation inviting patrons to linger a little all lost in linger or inspiration while outside the coffee from of and relentless mingles seems to the aroma magic a within\n",
      "\n",
      "[161/201] 2.309450387954712 \n",
      "Repeat the heart of or bustling coffee the skyscrapers tower above and people from all walks of life converge there inspiration heart small above coffee mingles that has become at beloved and for and the and thinkers to the place where the seems to the down and the aroma linger a brewed coffee mingles with inspiration gentle hum a conversation inviting patrons to linger a little longer lost in thought or inspiration while outside where coffee continues at its relentless and seems to the aroma magic brewing within\n",
      "\n",
      "[201/201] 1.8145763874053955 \n",
      "Repeat the heart of a bustling city where skyscrapers tower above and people from all walks of life converge there exists heart small the coffee mingles that has become at beloved and for and writers and thinkers alike; the place where the seems to the down and the aroma of a brewed coffee mingles with inspiration gentle hum a conversation inviting patrons to linger a little longer lost in thought or inspiration while outside where coffee continues at its relentless and oblivious to the aroma magic brewing within\n",
      "\n"
     ]
    }
   ],
   "source": [
    "# 훈련 시작\n",
    "for step in range(201):\n",
    "    # 경사 초기화\n",
    "    optimizer.zero_grad()\n",
    "    # 순방향 전파\n",
    "    output = model(X)\n",
    "    # 손실값 계산\n",
    "    loss = loss_function(output, Y.view(-1))\n",
    "    # 역방향 전파\n",
    "    loss.backward()\n",
    "    # 매개변수 업데이트\n",
    "    optimizer.step()\n",
    "    # 기록\n",
    "    if step % 40 == 0:\n",
    "        print(f\"[{step+1}/201] {loss} \")\n",
    "        pred = output.softmax(-1).argmax(-1).tolist()\n",
    "        print(\" \".join([\"Repeat\"] + decode(pred)))\n",
    "        print()"
   ]
  },
  {
   "cell_type": "code",
   "execution_count": 44,
   "metadata": {},
   "outputs": [
    {
     "name": "stdout",
     "output_type": "stream",
     "text": [
      "['도시의', '번잡한', '거리', '한가운데', '높은', '빌딩들이', '하늘을', '찌를', '듯', '솟아', '있는', '곳에', '사람들의', '발길이', '끊이지', '않는', '작은', '서점이', '하나', '있습니다', '이', '서점은', '독서와', '휴식을', '사랑하는', '이들에게', '편안한', '안식처가', '되어주며', '곳곳에', '배치된', '아늑한', '의자와', '잔잔한', '음악은', '방문자들로', '하여금', '조금', '더', '머물러', '책장을', '넘기게', '만듭니다', '그렇게', '서점', '안에서는', '시간이', '멈춘', '듯', '고요한', '평화가', '흐르고', '있지만', '문', '밖', '세상은', '여전히', '빠르게', '돌아가고', '있습니다']\n",
      "60\n"
     ]
    }
   ],
   "source": [
    "문장 = \"\"\"\n",
    "도시의 번잡한 거리 한가운데, 높은 빌딩들이 하늘을 찌를 듯 솟아 있는 곳에\n",
    "사람들의 발길이 끊이지 않는 작은 서점이 하나 있습니다. 이 서점은 독서와\n",
    "휴식을 사랑하는 이들에게 편안한 안식처가 되어주며, 곳곳에 배치된 아늑한\n",
    "의자와 잔잔한 음악은 방문자들로 하여금 조금 더 머물러 책장을 넘기게 만듭니다.\n",
    "그렇게 서점 안에서는 시간이 멈춘 듯 고요한 평화가 흐르고 있지만, 문 밖 세상은\n",
    "여전히 빠르게 돌아가고 있습니다.\n",
    "\"\"\"\n",
    "\n",
    "정재된문장 = 문장.replace(',','').replace('.','').split()\n",
    "print(정재된문장)\n",
    "print(len(정재된문장))"
   ]
  },
  {
   "cell_type": "code",
   "execution_count": null,
   "metadata": {},
   "outputs": [
    {
     "name": "stdout",
     "output_type": "stream",
     "text": [
      "['휴식을', '곳에', '흐르고', '머물러', '평화가', '이들에게', '안에서는', '발길이', '아늑한', '잔잔한', '배치된', '독서와', '서점', '하나', '하늘을', '듯', '이', '빠르게', '안식처가', '있는', '있습니다', '거리', '밖', '높은', '않는', '도시의', '곳곳에', '하여금', '만듭니다', '빌딩들이', '사람들의', '번잡한', '서점이', '고요한', '세상은', '여전히', '서점은', '작은', '멈춘', '돌아가고', '끊이지', '있지만', '사랑하는', '조금', '한가운데', '방문자들로', '책장을', '편안한', '찌를', '시간이', '의자와', '문', '솟아', '되어주며', '넘기게', '더', '음악은', '그렇게']\n"
     ]
    }
   ],
   "source": [
    "단어집 = list(set(정재된문장))\n",
    "print(단어집)"
   ]
  },
  {
   "cell_type": "code",
   "execution_count": 36,
   "metadata": {},
   "outputs": [
    {
     "name": "stdout",
     "output_type": "stream",
     "text": [
      "{'휴식을': 1, '곳에': 2, '흐르고': 3, '머물러': 4, '평화가': 5, '이들에게': 6, '안에서는': 7, '발길이': 8, '아늑한': 9, '잔잔한': 10, '배치된': 11, '독서와': 12, '서점': 13, '하나': 14, '하늘을': 15, '듯': 16, '이': 17, '빠르게': 18, '안식처가': 19, '있는': 20, '있습니다': 21, '거리': 22, '밖': 23, '높은': 24, '않는': 25, '도시의': 26, '곳곳에': 27, '하여금': 28, '만듭니다': 29, '빌딩들이': 30, '사람들의': 31, '번잡한': 32, '서점이': 33, '고요한': 34, '세상은': 35, '여전히': 36, '서점은': 37, '작은': 38, '멈춘': 39, '돌아가고': 40, '끊이지': 41, '있지만': 42, '사랑하는': 43, '조금': 44, '한가운데': 45, '방문자들로': 46, '책장을': 47, '편안한': 48, '찌를': 49, '시간이': 50, '의자와': 51, '문': 52, '솟아': 53, '되어주며': 54, '넘기게': 55, '더': 56, '음악은': 57, '그렇게': 58, '<unk>': 0}\n",
      "{1: '휴식을', 2: '곳에', 3: '흐르고', 4: '머물러', 5: '평화가', 6: '이들에게', 7: '안에서는', 8: '발길이', 9: '아늑한', 10: '잔잔한', 11: '배치된', 12: '독서와', 13: '서점', 14: '하나', 15: '하늘을', 16: '듯', 17: '이', 18: '빠르게', 19: '안식처가', 20: '있는', 21: '있습니다', 22: '거리', 23: '밖', 24: '높은', 25: '않는', 26: '도시의', 27: '곳곳에', 28: '하여금', 29: '만듭니다', 30: '빌딩들이', 31: '사람들의', 32: '번잡한', 33: '서점이', 34: '고요한', 35: '세상은', 36: '여전히', 37: '서점은', 38: '작은', 39: '멈춘', 40: '돌아가고', 41: '끊이지', 42: '있지만', 43: '사랑하는', 44: '조금', 45: '한가운데', 46: '방문자들로', 47: '책장을', 48: '편안한', 49: '찌를', 50: '시간이', 51: '의자와', 52: '문', 53: '솟아', 54: '되어주며', 55: '넘기게', 56: '더', 57: '음악은', 58: '그렇게', 0: '<unk>'}\n"
     ]
    }
   ],
   "source": [
    "단어를순서로 = {단어: 순서 for 순서, 단어 in enumerate(단어집, 1)}\n",
    "단어를순서로['<unk>']=0\n",
    "print(단어를순서로)\n",
    "# 수치화된 데이터를 단어로 바꾸기 위한 사전\n",
    "순서를단어로 = {값: 열쇠 for 열쇠, 값 in 단어를순서로.items()}\n",
    "print(순서를단어로)"
   ]
  },
  {
   "cell_type": "code",
   "execution_count": 37,
   "metadata": {},
   "outputs": [],
   "source": [
    "def build_data(정재된문장, 단어를순서로):\n",
    "    encoded = [단어를순서로[토큰] for 토큰 in 정재된문장]\n",
    "    input_seq, label_seq = encoded[:-1], encoded[1:]\n",
    "    input_seq = torch.LongTensor(input_seq).unsqueeze(0)\n",
    "    label_seq = torch.LongTensor(label_seq).unsqueeze(0)\n",
    "    return input_seq, label_seq"
   ]
  },
  {
   "cell_type": "code",
   "execution_count": 38,
   "metadata": {},
   "outputs": [
    {
     "name": "stdout",
     "output_type": "stream",
     "text": [
      "tensor([[26, 32, 22, 45, 24, 30, 15, 49, 16, 53, 20,  2, 31,  8, 41, 25, 38, 33,\n",
      "         14, 21, 17, 37, 12,  1, 43,  6, 48, 19, 54, 27, 11,  9, 51, 10, 57, 46,\n",
      "         28, 44, 56,  4, 47, 55, 29, 58, 13,  7, 50, 39, 16, 34,  5,  3, 42, 52,\n",
      "         23, 35, 36, 18, 40]])\n",
      "tensor([[32, 22, 45, 24, 30, 15, 49, 16, 53, 20,  2, 31,  8, 41, 25, 38, 33, 14,\n",
      "         21, 17, 37, 12,  1, 43,  6, 48, 19, 54, 27, 11,  9, 51, 10, 57, 46, 28,\n",
      "         44, 56,  4, 47, 55, 29, 58, 13,  7, 50, 39, 16, 34,  5,  3, 42, 52, 23,\n",
      "         35, 36, 18, 40, 21]])\n"
     ]
    }
   ],
   "source": [
    "X, Y = build_data(정재된문장, 단어를순서로)\n",
    "print(X)\n",
    "print(Y)"
   ]
  },
  {
   "cell_type": "code",
   "execution_count": 39,
   "metadata": {},
   "outputs": [],
   "source": [
    "class Net(nn.Module):\n",
    "    def __init__(self, vocab_size, input_size, hidden_size, batch_first=True):\n",
    "        super(Net, self).__init__()\n",
    "        self.embedding_layer = nn.Embedding(num_embeddings=vocab_size,\n",
    "                                            embedding_dim=input_size)\n",
    "        self.rnn_layer = nn.RNN(input_size, hidden_size,\n",
    "                                batch_first=batch_first)\n",
    "        self.linear = nn.Linear(hidden_size, vocab_size)\n",
    "\n",
    "    def forward(self, x):\n",
    "        output = self.embedding_layer(x)\n",
    "        output, hidden = self.rnn_layer(output)\n",
    "        output = self.linear(output)\n",
    "        return output.view(-1, output.size(2))"
   ]
  },
  {
   "cell_type": "code",
   "execution_count": 40,
   "metadata": {},
   "outputs": [],
   "source": [
    "# 하이퍼 파라미터\n",
    "vocab_size = len(단어를순서로)\n",
    "input_size = 5\n",
    "hidden_size = 20"
   ]
  },
  {
   "cell_type": "code",
   "execution_count": 41,
   "metadata": {},
   "outputs": [],
   "source": [
    "# 모델 생성\n",
    "model = Net(vocab_size, input_size, hidden_size, batch_first=True)\n",
    "# 손실함수 정의\n",
    "loss_function = nn.CrossEntropyLoss()\n",
    "# 옵티마이저 정의\n",
    "optimizer = optim.Adam(params=model.parameters())"
   ]
  },
  {
   "cell_type": "code",
   "execution_count": 42,
   "metadata": {},
   "outputs": [
    {
     "name": "stdout",
     "output_type": "stream",
     "text": [
      "tensor([ 0.0105,  0.1150, -0.3872,  0.1840, -0.0324, -0.0408,  0.0106,  0.1707,\n",
      "        -0.4709,  0.1184, -0.0880,  0.1519, -0.1682, -0.2592, -0.2131,  0.3248,\n",
      "         0.0281, -0.1261, -0.1289, -0.4999,  0.3541, -0.2265, -0.1110, -0.3304,\n",
      "        -0.5318, -0.3431, -0.4415,  0.2131,  0.1024, -0.1541,  0.0366, -0.0765,\n",
      "         0.1530, -0.0397,  0.2132, -0.0402,  0.1312,  0.1420, -0.3407, -0.2162,\n",
      "         0.1501, -0.0078, -0.1264, -0.0681,  0.2384, -0.0068,  0.0323, -0.1245,\n",
      "        -0.2998,  0.0562, -0.1322, -0.2606,  0.3043, -0.4211,  0.3422, -0.1851,\n",
      "         0.2586, -0.3846, -0.1356], grad_fn=<SelectBackward0>)\n",
      "59\n"
     ]
    }
   ],
   "source": [
    "# 임의로 예측해보기. 가중치는 전부 랜덤 초기화 된 상태이다.\n",
    "output = model(X)\n",
    "print(output[0])\n",
    "print(len(output))"
   ]
  },
  {
   "cell_type": "code",
   "execution_count": 43,
   "metadata": {},
   "outputs": [
    {
     "name": "stdout",
     "output_type": "stream",
     "text": [
      "torch.Size([59, 59])\n"
     ]
    }
   ],
   "source": [
    "print(output.shape)"
   ]
  },
  {
   "cell_type": "code",
   "execution_count": 45,
   "metadata": {},
   "outputs": [],
   "source": [
    "# 수치화된 데이터를 단어로 전환하는 함수\n",
    "decode = lambda y: [순서를단어로.get(x) for x in y]"
   ]
  },
  {
   "cell_type": "markdown",
   "metadata": {},
   "source": [
    "\"\"\"\n",
    "도시의 번잡한 거리 한가운데, 높은 빌딩들이 하늘을 찌를 듯 솟아 있는 곳에\n",
    "사람들의 발길이 끊이지 않는 작은 서점이 하나 있습니다. 이 서점은 독서와\n",
    "휴식을 사랑하는 이들에게 편안한 안식처가 되어주며, 곳곳에 배치된 아늑한\n",
    "의자와 잔잔한 음악은 방문자들로 하여금 조금 더 머물러 책장을 넘기게 만듭니다.\n",
    "그렇게 서점 안에서는 시간이 멈춘 듯 고요한 평화가 흐르고 있지만, 문 밖 세상은\n",
    "여전히 빠르게 돌아가고 있습니다.\n",
    "\"\"\""
   ]
  },
  {
   "cell_type": "code",
   "execution_count": 48,
   "metadata": {},
   "outputs": [
    {
     "name": "stdout",
     "output_type": "stream",
     "text": [
      "[1/201] 0.029129311442375183 \n",
      "Repeat 번잡한 거리 한가운데 높은 빌딩들이 하늘을 찌를 듯 솟아 있는 곳에 사람들의 발길이 끊이지 않는 작은 서점이 하나 있습니다 이 서점은 독서와 휴식을 사랑하는 이들에게 편안한 안식처가 되어주며 곳곳에 배치된 아늑한 의자와 잔잔한 음악은 방문자들로 하여금 조금 더 머물러 책장을 넘기게 만듭니다 그렇게 서점 안에서는 시간이 멈춘 듯 고요한 평화가 흐르고 있지만 문 밖 세상은 여전히 빠르게 돌아가고 있습니다\n",
      "\n",
      "[41/201] 0.02732822671532631 \n",
      "Repeat 번잡한 거리 한가운데 높은 빌딩들이 하늘을 찌를 듯 솟아 있는 곳에 사람들의 발길이 끊이지 않는 작은 서점이 하나 있습니다 이 서점은 독서와 휴식을 사랑하는 이들에게 편안한 안식처가 되어주며 곳곳에 배치된 아늑한 의자와 잔잔한 음악은 방문자들로 하여금 조금 더 머물러 책장을 넘기게 만듭니다 그렇게 서점 안에서는 시간이 멈춘 듯 고요한 평화가 흐르고 있지만 문 밖 세상은 여전히 빠르게 돌아가고 있습니다\n",
      "\n",
      "[81/201] 0.02569030039012432 \n",
      "Repeat 번잡한 거리 한가운데 높은 빌딩들이 하늘을 찌를 듯 솟아 있는 곳에 사람들의 발길이 끊이지 않는 작은 서점이 하나 있습니다 이 서점은 독서와 휴식을 사랑하는 이들에게 편안한 안식처가 되어주며 곳곳에 배치된 아늑한 의자와 잔잔한 음악은 방문자들로 하여금 조금 더 머물러 책장을 넘기게 만듭니다 그렇게 서점 안에서는 시간이 멈춘 듯 고요한 평화가 흐르고 있지만 문 밖 세상은 여전히 빠르게 돌아가고 있습니다\n",
      "\n",
      "[121/201] 0.024195900186896324 \n",
      "Repeat 번잡한 거리 한가운데 높은 빌딩들이 하늘을 찌를 듯 솟아 있는 곳에 사람들의 발길이 끊이지 않는 작은 서점이 하나 있습니다 이 서점은 독서와 휴식을 사랑하는 이들에게 편안한 안식처가 되어주며 곳곳에 배치된 아늑한 의자와 잔잔한 음악은 방문자들로 하여금 조금 더 머물러 책장을 넘기게 만듭니다 그렇게 서점 안에서는 시간이 멈춘 듯 고요한 평화가 흐르고 있지만 문 밖 세상은 여전히 빠르게 돌아가고 있습니다\n",
      "\n",
      "[161/201] 0.0228282418102026 \n",
      "Repeat 번잡한 거리 한가운데 높은 빌딩들이 하늘을 찌를 듯 솟아 있는 곳에 사람들의 발길이 끊이지 않는 작은 서점이 하나 있습니다 이 서점은 독서와 휴식을 사랑하는 이들에게 편안한 안식처가 되어주며 곳곳에 배치된 아늑한 의자와 잔잔한 음악은 방문자들로 하여금 조금 더 머물러 책장을 넘기게 만듭니다 그렇게 서점 안에서는 시간이 멈춘 듯 고요한 평화가 흐르고 있지만 문 밖 세상은 여전히 빠르게 돌아가고 있습니다\n",
      "\n",
      "[201/201] 0.021573076024651527 \n",
      "Repeat 번잡한 거리 한가운데 높은 빌딩들이 하늘을 찌를 듯 솟아 있는 곳에 사람들의 발길이 끊이지 않는 작은 서점이 하나 있습니다 이 서점은 독서와 휴식을 사랑하는 이들에게 편안한 안식처가 되어주며 곳곳에 배치된 아늑한 의자와 잔잔한 음악은 방문자들로 하여금 조금 더 머물러 책장을 넘기게 만듭니다 그렇게 서점 안에서는 시간이 멈춘 듯 고요한 평화가 흐르고 있지만 문 밖 세상은 여전히 빠르게 돌아가고 있습니다\n",
      "\n"
     ]
    }
   ],
   "source": [
    "# 훈련 시작\n",
    "for step in range(201):\n",
    "    # 경사 초기화\n",
    "    optimizer.zero_grad()\n",
    "    # 순방향 전파\n",
    "    output = model(X)\n",
    "    # 손실값 계산\n",
    "    loss = loss_function(output, Y.view(-1))\n",
    "    # 역방향 전파\n",
    "    loss.backward()\n",
    "    # 매개변수 업데이트\n",
    "    optimizer.step()\n",
    "    # 기록\n",
    "    if step % 40 == 0:\n",
    "        print(f\"[{step+1}/201] {loss} \")\n",
    "        pred = output.softmax(-1).argmax(-1).tolist()\n",
    "        print(\" \".join([\"Repeat\"] + decode(pred)))\n",
    "        print()"
   ]
  },
  {
   "cell_type": "markdown",
   "metadata": {},
   "source": []
  },
  {
   "cell_type": "code",
   "execution_count": null,
   "metadata": {},
   "outputs": [],
   "source": []
  }
 ],
 "metadata": {
  "kernelspec": {
   "display_name": "studypy312",
   "language": "python",
   "name": "python3"
  },
  "language_info": {
   "codemirror_mode": {
    "name": "ipython",
    "version": 3
   },
   "file_extension": ".py",
   "mimetype": "text/x-python",
   "name": "python",
   "nbconvert_exporter": "python",
   "pygments_lexer": "ipython3",
   "version": "3.12.7"
  }
 },
 "nbformat": 4,
 "nbformat_minor": 2
}
