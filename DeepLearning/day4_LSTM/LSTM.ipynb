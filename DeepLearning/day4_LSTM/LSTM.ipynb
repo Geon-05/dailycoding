{
 "cells": [
  {
   "cell_type": "code",
   "execution_count": 1,
   "metadata": {},
   "outputs": [],
   "source": [
    "import pickle\n",
    "import pandas as pd\n",
    "import numpy as np\n",
    "import matplotlib.pyplot as plt\n",
    "import re\n",
    "import urllib.request\n",
    "from konlpy.tag import Mecab\n",
    "from tqdm import tqdm\n",
    "from sklearn.model_selection import train_test_split\n",
    "from collections import Counter"
   ]
  },
  {
   "cell_type": "code",
   "execution_count": 2,
   "metadata": {},
   "outputs": [
    {
     "data": {
      "text/plain": [
       "('data/ratings_test.txt', <http.client.HTTPMessage at 0x28e34e1f890>)"
      ]
     },
     "execution_count": 2,
     "metadata": {},
     "output_type": "execute_result"
    }
   ],
   "source": [
    "urllib.request.urlretrieve(\"https://raw.githubusercontent.com/e9t/nsmc/master/ratings_train.txt\", filename=\"data/ratings_train.txt\")\n",
    "urllib.request.urlretrieve(\"https://raw.githubusercontent.com/e9t/nsmc/master/ratings_test.txt\", filename=\"data/ratings_test.txt\")"
   ]
  },
  {
   "cell_type": "code",
   "execution_count": 3,
   "metadata": {},
   "outputs": [],
   "source": [
    "train_data = pd.read_table('data/ratings_train.txt')\n",
    "test_data = pd.read_table('data/ratings_test.txt')"
   ]
  },
  {
   "cell_type": "code",
   "execution_count": 4,
   "metadata": {},
   "outputs": [
    {
     "name": "stdout",
     "output_type": "stream",
     "text": [
      "훈련용 리뷰 개수 : 150000\n"
     ]
    },
    {
     "data": {
      "text/html": [
       "<div>\n",
       "<style scoped>\n",
       "    .dataframe tbody tr th:only-of-type {\n",
       "        vertical-align: middle;\n",
       "    }\n",
       "\n",
       "    .dataframe tbody tr th {\n",
       "        vertical-align: top;\n",
       "    }\n",
       "\n",
       "    .dataframe thead th {\n",
       "        text-align: right;\n",
       "    }\n",
       "</style>\n",
       "<table border=\"1\" class=\"dataframe\">\n",
       "  <thead>\n",
       "    <tr style=\"text-align: right;\">\n",
       "      <th></th>\n",
       "      <th>id</th>\n",
       "      <th>document</th>\n",
       "      <th>label</th>\n",
       "    </tr>\n",
       "  </thead>\n",
       "  <tbody>\n",
       "    <tr>\n",
       "      <th>0</th>\n",
       "      <td>9976970</td>\n",
       "      <td>아 더빙.. 진짜 짜증나네요 목소리</td>\n",
       "      <td>0</td>\n",
       "    </tr>\n",
       "    <tr>\n",
       "      <th>1</th>\n",
       "      <td>3819312</td>\n",
       "      <td>흠...포스터보고 초딩영화줄....오버연기조차 가볍지 않구나</td>\n",
       "      <td>1</td>\n",
       "    </tr>\n",
       "    <tr>\n",
       "      <th>2</th>\n",
       "      <td>10265843</td>\n",
       "      <td>너무재밓었다그래서보는것을추천한다</td>\n",
       "      <td>0</td>\n",
       "    </tr>\n",
       "    <tr>\n",
       "      <th>3</th>\n",
       "      <td>9045019</td>\n",
       "      <td>교도소 이야기구먼 ..솔직히 재미는 없다..평점 조정</td>\n",
       "      <td>0</td>\n",
       "    </tr>\n",
       "    <tr>\n",
       "      <th>4</th>\n",
       "      <td>6483659</td>\n",
       "      <td>사이몬페그의 익살스런 연기가 돋보였던 영화!스파이더맨에서 늙어보이기만 했던 커스틴 ...</td>\n",
       "      <td>1</td>\n",
       "    </tr>\n",
       "  </tbody>\n",
       "</table>\n",
       "</div>"
      ],
      "text/plain": [
       "         id                                           document  label\n",
       "0   9976970                                아 더빙.. 진짜 짜증나네요 목소리      0\n",
       "1   3819312                  흠...포스터보고 초딩영화줄....오버연기조차 가볍지 않구나      1\n",
       "2  10265843                                  너무재밓었다그래서보는것을추천한다      0\n",
       "3   9045019                      교도소 이야기구먼 ..솔직히 재미는 없다..평점 조정      0\n",
       "4   6483659  사이몬페그의 익살스런 연기가 돋보였던 영화!스파이더맨에서 늙어보이기만 했던 커스틴 ...      1"
      ]
     },
     "metadata": {},
     "output_type": "display_data"
    },
    {
     "name": "stdout",
     "output_type": "stream",
     "text": [
      "테스트용 리뷰 개수 : 50000\n"
     ]
    },
    {
     "data": {
      "text/html": [
       "<div>\n",
       "<style scoped>\n",
       "    .dataframe tbody tr th:only-of-type {\n",
       "        vertical-align: middle;\n",
       "    }\n",
       "\n",
       "    .dataframe tbody tr th {\n",
       "        vertical-align: top;\n",
       "    }\n",
       "\n",
       "    .dataframe thead th {\n",
       "        text-align: right;\n",
       "    }\n",
       "</style>\n",
       "<table border=\"1\" class=\"dataframe\">\n",
       "  <thead>\n",
       "    <tr style=\"text-align: right;\">\n",
       "      <th></th>\n",
       "      <th>id</th>\n",
       "      <th>document</th>\n",
       "      <th>label</th>\n",
       "    </tr>\n",
       "  </thead>\n",
       "  <tbody>\n",
       "    <tr>\n",
       "      <th>0</th>\n",
       "      <td>6270596</td>\n",
       "      <td>굳 ㅋ</td>\n",
       "      <td>1</td>\n",
       "    </tr>\n",
       "    <tr>\n",
       "      <th>1</th>\n",
       "      <td>9274899</td>\n",
       "      <td>GDNTOPCLASSINTHECLUB</td>\n",
       "      <td>0</td>\n",
       "    </tr>\n",
       "    <tr>\n",
       "      <th>2</th>\n",
       "      <td>8544678</td>\n",
       "      <td>뭐야 이 평점들은.... 나쁘진 않지만 10점 짜리는 더더욱 아니잖아</td>\n",
       "      <td>0</td>\n",
       "    </tr>\n",
       "    <tr>\n",
       "      <th>3</th>\n",
       "      <td>6825595</td>\n",
       "      <td>지루하지는 않은데 완전 막장임... 돈주고 보기에는....</td>\n",
       "      <td>0</td>\n",
       "    </tr>\n",
       "    <tr>\n",
       "      <th>4</th>\n",
       "      <td>6723715</td>\n",
       "      <td>3D만 아니었어도 별 다섯 개 줬을텐데.. 왜 3D로 나와서 제 심기를 불편하게 하죠??</td>\n",
       "      <td>0</td>\n",
       "    </tr>\n",
       "  </tbody>\n",
       "</table>\n",
       "</div>"
      ],
      "text/plain": [
       "        id                                           document  label\n",
       "0  6270596                                                굳 ㅋ      1\n",
       "1  9274899                               GDNTOPCLASSINTHECLUB      0\n",
       "2  8544678             뭐야 이 평점들은.... 나쁘진 않지만 10점 짜리는 더더욱 아니잖아      0\n",
       "3  6825595                   지루하지는 않은데 완전 막장임... 돈주고 보기에는....      0\n",
       "4  6723715  3D만 아니었어도 별 다섯 개 줬을텐데.. 왜 3D로 나와서 제 심기를 불편하게 하죠??      0"
      ]
     },
     "metadata": {},
     "output_type": "display_data"
    }
   ],
   "source": [
    "print('훈련용 리뷰 개수 :',len(train_data)) # 훈련용 리뷰 개수 출력\n",
    "display(train_data[:5])\n",
    "print('테스트용 리뷰 개수 :',len(test_data))\n",
    "display(test_data[:5])"
   ]
  },
  {
   "cell_type": "code",
   "execution_count": 5,
   "metadata": {},
   "outputs": [
    {
     "data": {
      "text/plain": [
       "(146182, 2)"
      ]
     },
     "execution_count": 5,
     "metadata": {},
     "output_type": "execute_result"
    }
   ],
   "source": [
    "# document 열과 label 열의 중복을 제외한 값의 개수\n",
    "train_data['document'].nunique(), train_data['label'].nunique()"
   ]
  },
  {
   "cell_type": "code",
   "execution_count": 7,
   "metadata": {},
   "outputs": [
    {
     "name": "stdout",
     "output_type": "stream",
     "text": [
      "총 샘플의 수 : 150000\n"
     ]
    },
    {
     "data": {
      "text/plain": [
       "<Axes: xlabel='label'>"
      ]
     },
     "execution_count": 7,
     "metadata": {},
     "output_type": "execute_result"
    },
    {
     "data": {
      "image/png": "[encoded data removed]",
      "text/plain": [
       "<Figure size 640x480 with 1 Axes>"
      ]
     },
     "metadata": {},
     "output_type": "display_data"
    }
   ],
   "source": [
    "print('총 샘플의 수 :',len(train_data))\n",
    "train_data['label'].value_counts().plot(kind = 'bar')"
   ]
  },
  {
   "cell_type": "code",
   "execution_count": 8,
   "metadata": {},
   "outputs": [
    {
     "name": "stdout",
     "output_type": "stream",
     "text": [
      "   label  count\n",
      "0      0  75173\n",
      "1      1  74827\n",
      "True\n",
      "id          0\n",
      "document    5\n",
      "label       0\n",
      "dtype: int64\n"
     ]
    }
   ],
   "source": [
    "print(train_data.groupby('label').size().reset_index(name = 'count'))\n",
    "print(train_data.isnull().values.any())\n",
    "print(train_data.isnull().sum())"
   ]
  },
  {
   "cell_type": "code",
   "execution_count": 9,
   "metadata": {},
   "outputs": [
    {
     "data": {
      "text/html": [
       "<div>\n",
       "<style scoped>\n",
       "    .dataframe tbody tr th:only-of-type {\n",
       "        vertical-align: middle;\n",
       "    }\n",
       "\n",
       "    .dataframe tbody tr th {\n",
       "        vertical-align: top;\n",
       "    }\n",
       "\n",
       "    .dataframe thead th {\n",
       "        text-align: right;\n",
       "    }\n",
       "</style>\n",
       "<table border=\"1\" class=\"dataframe\">\n",
       "  <thead>\n",
       "    <tr style=\"text-align: right;\">\n",
       "      <th></th>\n",
       "      <th>id</th>\n",
       "      <th>document</th>\n",
       "      <th>label</th>\n",
       "    </tr>\n",
       "  </thead>\n",
       "  <tbody>\n",
       "    <tr>\n",
       "      <th>25857</th>\n",
       "      <td>2172111</td>\n",
       "      <td>NaN</td>\n",
       "      <td>1</td>\n",
       "    </tr>\n",
       "    <tr>\n",
       "      <th>55737</th>\n",
       "      <td>6369843</td>\n",
       "      <td>NaN</td>\n",
       "      <td>1</td>\n",
       "    </tr>\n",
       "    <tr>\n",
       "      <th>110014</th>\n",
       "      <td>1034280</td>\n",
       "      <td>NaN</td>\n",
       "      <td>0</td>\n",
       "    </tr>\n",
       "    <tr>\n",
       "      <th>126782</th>\n",
       "      <td>5942978</td>\n",
       "      <td>NaN</td>\n",
       "      <td>0</td>\n",
       "    </tr>\n",
       "    <tr>\n",
       "      <th>140721</th>\n",
       "      <td>1034283</td>\n",
       "      <td>NaN</td>\n",
       "      <td>0</td>\n",
       "    </tr>\n",
       "  </tbody>\n",
       "</table>\n",
       "</div>"
      ],
      "text/plain": [
       "             id document  label\n",
       "25857   2172111      NaN      1\n",
       "55737   6369843      NaN      1\n",
       "110014  1034280      NaN      0\n",
       "126782  5942978      NaN      0\n",
       "140721  1034283      NaN      0"
      ]
     },
     "execution_count": 9,
     "metadata": {},
     "output_type": "execute_result"
    }
   ],
   "source": [
    "train_data.loc[train_data.document.isnull()]"
   ]
  },
  {
   "cell_type": "code",
   "execution_count": 10,
   "metadata": {},
   "outputs": [
    {
     "name": "stdout",
     "output_type": "stream",
     "text": [
      "False\n"
     ]
    }
   ],
   "source": [
    "train_data = train_data.dropna(how = 'any') # Null 값이 존재하는 행 제거\n",
    "print(train_data.isnull().values.any()) # Null 값이 존재하는지 확인"
   ]
  },
  {
   "cell_type": "code",
   "execution_count": 11,
   "metadata": {},
   "outputs": [
    {
     "name": "stdout",
     "output_type": "stream",
     "text": [
      "149995\n"
     ]
    }
   ],
   "source": [
    "print(len(train_data))"
   ]
  },
  {
   "cell_type": "code",
   "execution_count": 12,
   "metadata": {},
   "outputs": [
    {
     "name": "stdout",
     "output_type": "stream",
     "text": [
      "do you expect people to read the FAQ etc and actually accept hard atheism\n"
     ]
    }
   ],
   "source": [
    "#알파벳과 공백을 제외하고 모두 제거\n",
    "eng_text = 'do!!! you expect... people~ to~ read~ the FAQ, etc. and actually accept hard~! atheism?@@'\n",
    "print(re.sub(r'[^a-zA-Z ]', '', eng_text))\n",
    "# 한글과 공백을 제외하고 모두 제거\n",
    "train_data['document'] = train_data['document'].str.replace(\"[^ㄱ-ㅎㅏ-ㅣ가-힣 ]\",\"\", regex=True)"
   ]
  },
  {
   "cell_type": "code",
   "execution_count": 13,
   "metadata": {},
   "outputs": [
    {
     "name": "stdout",
     "output_type": "stream",
     "text": [
      "id             0\n",
      "document    1255\n",
      "label          0\n",
      "dtype: int64\n"
     ]
    }
   ],
   "source": [
    "train_data['document'] = train_data['document'].str.replace('^ +', \"\", regex=True) # white space 데이터를 empty value로 변경\n",
    "train_data['document'] = train_data['document'].replace('', np.nan)\n",
    "print(train_data.isnull().sum())"
   ]
  },
  {
   "cell_type": "code",
   "execution_count": 14,
   "metadata": {},
   "outputs": [
    {
     "name": "stdout",
     "output_type": "stream",
     "text": [
      "148740\n"
     ]
    }
   ],
   "source": [
    "train_data = train_data.dropna(how = 'any')\n",
    "print(len(train_data))"
   ]
  },
  {
   "cell_type": "code",
   "execution_count": 15,
   "metadata": {},
   "outputs": [
    {
     "name": "stdout",
     "output_type": "stream",
     "text": [
      "전처리 후 테스트용 샘플의 개수 : 48852\n"
     ]
    }
   ],
   "source": [
    "test_data.drop_duplicates(subset = ['document'], inplace=True) # document 열에서 중복인 내용이 있다면 중복 제거\n",
    "test_data['document'] = test_data['document'].str.replace(\"[^ㄱ-ㅎㅏ-ㅣ가-힣 ]\",\"\", regex=True) # 정규 표현식 수행\n",
    "test_data['document'] = test_data['document'].str.replace('^ +', \"\", regex=True) # 공백은 empty 값으로 변경\n",
    "test_data['document'] = test_data['document'].replace('', np.nan) # 공백은 Null 값으로 변경\n",
    "test_data = test_data.dropna(how='any') # Null 값 제거\n",
    "print('전처리 후 테스트용 샘플의 개수 :',len(test_data))"
   ]
  },
  {
   "cell_type": "code",
   "execution_count": null,
   "metadata": {},
   "outputs": [
    {
     "name": "stdout",
     "output_type": "stream",
     "text": [
      "['거랜데\\n', '로서\\n', '해당\\n', '대해\\n', '갈수\\n', '볼\\n', '박\\n', '점\\n', '결\\n', '뿐\\n', '곤\\n', '배\\n', '편\\n', '까르띠\\n', '척\\n', '찬\\n', '클릭\\n', '요요\\n', '프로필\\n', '두\\n', '도\\n', '드릴\\n', '다그\\n', '로시\\n', '출처\\n', '도\\n', '아이엠\\n', '벤자민\\n', '할애\\n', '채택\\n', '성심\\n', '성의껏\\n', '가지\\n', '제이\\n', '바로가기\\n', '채널\\n', '씨엘\\n', '파\\n', '즐\\n', '안녕하십니까\\n', '질문\\n', '문의\\n', '답변\\n', '굳이\\n', '제공\\n', '최\\n', '나은\\n', '보\\n', '유량\\n', '주시\\n', '현\\n', '쯤\\n', '총\\n', '서나\\n', '아예\\n', '바\\n', '벙\\n', '빼\\n', '곧바로\\n', '나름\\n', '그게\\n', '그냥\\n', '그대로\\n', '그동안\\n', '덜\\n', '스\\n', '놀란\\n', '더욱\\n', '김\\n', '틀\\n', '번의\\n', '나중\\n', '무소\\n', '더니\\n', '무니\\n', '말씀드렷\\n', '보아\\n', '이내\\n', '섣불리\\n', '여러가지\\n', '여지\\n', '진짜\\n', '전혀\\n', '이제\\n', '지금\\n', '이외\\n', '잠도\\n', '일이\\n', '이분\\n', '해도\\n', '워낙\\n', '여럿\\n', '뭔가\\n', '셧습니\\n', '서요\\n', '었어\\n', '어차피\\n', '어처구니\\n', '어쨌든\\n', '살짝\\n', '찾기\\n', '외\\n', '그거\\n', '보이\\n', '한일\\n', '관련\\n', '줌\\n', '료\\n', '뭘\\n', '셨습\\n', '듯\\n', '곳\\n', '려고\\n', '얘기\\n', '몇번\\n', '끝\\n', '때문\\n', '고려\\n', '경우\\n', '거나\\n', '위해\\n', '채\\n', '므\\n', '내\\n', '쪽\\n', '통\\n', '다해\\n', '후\\n', '컴\\n', '니\\n', '못\\n', '취\\n', '끌\\n', '단\\n', '임\\n', '데\\n', '음\\n', '하나요\\n', '고\\n', '끼\\n', '숑\\n', '요\\n', '릐\\n', '청소햐\\n', '가도\\n', '거\\n', '아\\n', '휴\\n', '아이구\\n', '아이쿠\\n', '아이고\\n', '어\\n', '나\\n', '우리\\n', '저희\\n', '따라\\n', '의해\\n', '을\\n', '를\\n', '에\\n', '의\\n', '가\\n', '으로\\n', '로\\n', '에게\\n', '뿐이다\\n', '의거하여\\n', '근거하여\\n', '입각하여\\n', '기준으로\\n', '예하면\\n', '예를 들면\\n', '예를 들자면\\n', '저\\n', '소인\\n', '소생\\n', '저희\\n', '지말고\\n', '하지마\\n', '하지마라\\n', '다른\\n', '물론\\n', '또한\\n', '그리고\\n', '비길수 없다\\n', '해서는 안된다\\n', '뿐만 아니라\\n', '만이 아니다\\n', '만은 아니다\\n', '막론하고\\n', '관계없이\\n', '그치지 않다\\n', '그러나\\n', '그런데\\n', '하지만\\n', '든간에\\n', '논하지 않다\\n', '따지지 않다\\n', '설사\\n', '비록\\n', '더라도\\n', '아니면\\n', '만 못하다\\n', '하는 편이 낫다\\n', '불문하고\\n', '향하여\\n', '향해서\\n', '향하다\\n', '쪽으로\\n', '틈타\\n', '이용하여\\n', '타다\\n', '오르다\\n', '제외하고\\n', '이 외에\\n', '이 밖에\\n', '하여야\\n', '비로소\\n', '한다면 몰라도\\n', '외에도\\n', '이곳\\n', '여기\\n', '부터\\n', '기점으로\\n', '따라서\\n', '할 생각이다\\n', '하려고하다\\n', '이리하여\\n', '그리하여\\n', '그렇게 함으로써\\n', '하지만\\n', '일때\\n', '할때\\n', '앞에서\\n', '중에서\\n', '보는데서\\n', '으로써\\n', '로써\\n', '까지\\n', '해야한다\\n', '일것이다\\n', '반드시\\n', '할줄알다\\n', '할수있다\\n', '할수있어\\n', '임에 틀림없다\\n', '한다면\\n', '등\\n', '등등\\n', '제\\n', '겨우\\n', '단지\\n', '다만\\n', '할뿐\\n', '딩동\\n', '댕그\\n', '대해서\\n', '대하여\\n', '대하면\\n', '훨씬\\n', '얼마나\\n', '얼마만큼\\n', '얼마큼\\n', '남짓\\n', '여\\n', '얼마간\\n', '약간\\n', '다소\\n', '좀\\n', '조금\\n', '다수\\n', '몇\\n', '얼마\\n', '지만\\n', '하물며\\n', '또한\\n', '그러나\\n', '그렇지만\\n', '하지만\\n', '이외에도\\n', '대해 말하자면\\n', '뿐이다\\n', '다음에\\n', '반대로\\n', '반대로 말하자면\\n', '이와 반대로\\n', '바꾸어서 말하면\\n', '바꾸어서 한다면\\n', '만약\\n', '그렇지않으면\\n', '까악\\n', '툭\\n', '딱\\n', '삐걱거리다\\n', '보드득\\n', '비걱거리다\\n', '꽈당\\n', '응당\\n', '해야한다\\n', '에 가서\\n', '각\\n', '각각\\n', '여러분\\n', '각종\\n', '각자\\n', '제각기\\n', '하도록하다\\n', '와\\n', '과\\n', '그러므로\\n', '그래서\\n', '고로\\n', '한 까닭에\\n', '하기 때문에\\n', '거니와\\n', '이지만\\n', '대하여\\n', '관하여\\n', '관한\\n', '과연\\n', '실로\\n', '아니나다를가\\n', '생각한대로\\n', '진짜로\\n', '한적이있다\\n', '하곤하였다\\n', '하\\n', '하하\\n', '허허\\n', '아하\\n', '거바\\n', '와\\n', '오\\n', '왜\\n', '어째서\\n', '무엇때문에\\n', '어찌\\n', '하겠는가\\n', '무슨\\n', '어디\\n', '어느곳\\n', '더군다나\\n', '하물며\\n', '더욱이는\\n', '어느때\\n', '언제\\n', '야\\n', '이봐\\n', '어이\\n', '여보시오\\n', '흐흐\\n', '흥\\n', '휴\\n', '헉헉\\n', '헐떡헐떡\\n', '영차\\n', '여차\\n', '어기여차\\n', '끙끙\\n', '아야\\n', '앗\\n', '아야\\n', '콸콸\\n', '졸졸\\n', '좍좍\\n', '뚝뚝\\n', '주룩주룩\\n', '솨\\n', '우르르\\n', '그래도\\n', '또\\n', '그리고\\n', '바꾸어말하면\\n', '바꾸어말하자면\\n', '혹은\\n', '혹시\\n', '답다\\n', '및\\n', '그에 따르는\\n', '때가 되어\\n', '즉\\n', '지든지\\n', '설령\\n', '가령\\n', '하더라도\\n', '할지라도\\n', '일지라도\\n', '지든지\\n', '몇\\n', '거의\\n', '하마터면\\n', '인젠\\n', '이젠\\n', '된바에야\\n', '된이상\\n', '만큼\\t어찌됏든\\n', '그위에\\n', '게다가\\n', '점에서 보아\\n', '비추어 보아\\n', '고려하면\\n', '하게될것이다\\n', '일것이다\\n', '비교적\\n', '좀\\n', '보다더\\n', '비하면\\n', '시키다\\n', '하게하다\\n', '할만하다\\n', '의해서\\n', '연이서\\n', '이어서\\n', '잇따라\\n', '뒤따라\\n', '뒤이어\\n', '결국\\n', '의지하여\\n', '기대여\\n', '통하여\\n', '자마자\\n', '더욱더\\n', '불구하고\\n', '얼마든지\\n', '마음대로\\n', '주저하지 않고\\n', '곧\\n', '즉시\\n', '바로\\n', '당장\\n', '하자마자\\n', '밖에 안된다\\n', '하면된다\\n', '그래\\n', '그렇지\\n', '요컨대\\n', '다시 말하자면\\n', '바꿔 말하면\\n', '즉\\n', '구체적으로\\n', '말하자면\\n', '시작하여\\n', '시초에\\n', '이상\\n', '허\\n', '헉\\n', '허걱\\n', '바와같이\\n', '해도좋다\\n', '해도된다\\n', '게다가\\n', '더구나\\n', '하물며\\n', '와르르\\n', '팍\\n', '퍽\\n', '펄렁\\n', '동안\\n', '이래\\n', '하고있었다\\n', '이었다\\n', '에서\\n', '로부터\\n', '까지\\n', '예하면\\n', '했어요\\n', '해요\\n', '함께\\n', '같이\\n', '더불어\\n', '마저\\n', '마저도\\n', '양자\\n', '모두\\n', '습니다\\n', '가까스로\\n', '하려고하다\\n', '즈음하여\\n', '다른\\n', '다른 방면으로\\n', '해봐요\\n', '습니까\\n', '했어요\\n', '말할것도 없고\\n', '무릎쓰고\\n', '개의치않고\\n', '하는것만 못하다\\n', '하는것이 낫다\\n', '매\\n', '매번\\n', '들\\n', '모\\n', '어느것\\n', '어느\\n', '로써\\n', '갖고말하자면\\n', '어디\\n', '어느쪽\\n', '어느것\\n', '어느해\\n', '어느 년도\\n', '라 해도\\n', '언젠가\\n', '어떤것\\n', '어느것\\n', '저기\\n', '저쪽\\n', '저것\\n', '그때\\n', '그럼\\n', '그러면\\n', '요만한걸\\n', '그래\\n', '그때\\n', '저것만큼\\n', '그저\\n', '이르기까지\\n', '할 줄 안다\\n', '할 힘이 있다\\n', '너\\n', '너희\\n', '당신\\n', '어찌\\n', '설마\\n', '차라리\\n', '할지언정\\n', '할지라도\\n', '할망정\\n', '할지언정\\n', '구토하다\\n', '게우다\\n', '토하다\\n', '메쓰겁다\\n', '옆사람\\n', '퉤\\n', '쳇\\n', '의거하여\\n', '근거하여\\n', '의해\\n', '따라\\n', '힘입어\\n', '그\\n', '다음\\n', '버금\\n', '두번째로\\n', '기타\\n', '첫번째로\\n', '나머지는\\n', '그중에서\\n', '견지에서\\n', '형식으로 쓰여\\n', '입장에서\\n', '위해서\\n', '단지\\n', '의해되다\\n', '하도록시키다\\n', '뿐만아니라\\n', '반대로\\n', '전후\\n', '전자\\n', '앞의것\\n', '잠시\\n', '잠깐\\n', '하면서\\n', '그렇지만\\n', '다음에\\n', '그러한즉\\n', '그런즉\\n', '남들\\n', '아무거나\\n', '어찌하든지\\n', '같다\\n', '비슷하다\\n', '예컨대\\n', '이럴정도로\\n', '어떻게\\n', '만약\\n', '만일\\n', '위에서 서술한바와같이\\n', '인 듯하다\\n', '하지 않는다면\\n', '만약에\\n', '무엇\\n', '무슨\\n', '어느\\n', '어떤\\n', '아래윗\\n', '조차\\n', '한데\\n', '그럼에도 불구하고\\n', '여전히\\n', '심지어\\n', '까지도\\n', '조차도\\n', '하지 않도록\\n', '않기 위하여\\n', '때\\n', '시각\\n', '무렵\\n', '시간\\n', '동안\\n', '어때\\n', '어떠한\\n', '하여금\\n', '네\\n', '예\\n', '우선\\n', '누구\\n', '누가 알겠는가\\n', '아무도\\n', '줄은모른다\\n', '줄은 몰랏다\\n', '하는 김에\\n', '겸사겸사\\n', '하는바\\n', '그런 까닭에\\n', '한 이유는\\n', '그러니\\n', '그러니까\\n', '때문에\\n', '그\\n', '너희\\n', '그들\\n', '너희들\\n', '타인\\n', '것\\n', '것들\\n', '너\\n', '위하여\\n', '공동으로\\n', '동시에\\n', '하기 위하여\\n', '어찌하여\\n', '무엇때문에\\n', '붕붕\\n', '윙윙\\n', '나\\n', '우리\\n', '엉엉\\n', '휘익\\n', '윙윙\\n', '오호\\n', '아하\\n', '어쨋든\\n', '만 못하다\\n', '하기보다는\\n', '차라리\\n', '하는 편이 낫다\\n', '흐흐\\n', '놀라다\\n', '상대적으로 말하자면\\n', '마치\\n', '아니라면\\n', '쉿\\n', '그렇지 않으면\\n', '그렇지 않다면\\n', '안 그러면\\n', '아니었다면\\n', '하든지\\n', '아니면\\n', '이라면\\n', '좋아\\n', '알았어\\n', '하는것도\\n', '그만이다\\n', '어쩔수 없다\\n', '하나\\n', '일\\n', '일반적으로\\n', '일단\\n', '한켠으로는\\n', '오자마자\\n', '이렇게되면\\n', '이와같다면\\n', '전부\\n', '한마디\\n', '한항목\\n', '근거로\\n', '하기에\\n', '아울러\\n', '하지 않도록\\n', '않기 위해서\\n', '이르기까지\\n', '이 되다\\n', '로 인하여\\n', '까닭으로\\n', '이유만으로\\n', '이로 인하여\\n', '그래서\\n', '이 때문에\\n', '그러므로\\n', '그런 까닭에\\n', '알 수 있다\\n', '결론을 낼 수 있다\\n', '으로 인하여\\n', '있다\\n', '어떤것\\n', '관계가 있다\\n', '관련이 있다\\n', '연관되다\\n', '어떤것들\\n', '에 대해\\n', '이리하여\\n', '그리하여\\n', '여부\\n', '하기보다는\\n', '하느니\\n', '하면 할수록\\n', '운운\\n', '이러이러하다\\n', '하구나\\n', '하도다\\n', '다시말하면\\n', '다음으로\\n', '에 있다\\n', '에 달려 있다\\n', '우리\\n', '우리들\\n', '오히려\\n', '하기는한데\\n', '어떻게\\n', '어떻해\\n', '어찌됏어\\n', '어때\\n', '어째서\\n', '본대로\\n', '자\\n', '이\\n', '이쪽\\n', '여기\\n', '이것\\n', '이번\\n', '이렇게말하자면\\n', '이런\\n', '이러한\\n', '이와 같은\\n', '요만큼\\n', '요만한 것\\n', '얼마 안 되는 것\\n', '이만큼\\n', '이 정도의\\n', '이렇게 많은 것\\n', '이와 같다\\n', '이때\\n', '이렇구나\\n', '것과 같이\\n', '끼익\\n', '삐걱\\n', '따위\\n', '와 같은 사람들\\n', '부류의 사람들\\n', '왜냐하면\\n', '중의하나\\n', '오직\\n', '오로지\\n', '에 한하다\\n', '하기만 하면\\n', '도착하다\\n', '까지 미치다\\n', '도달하다\\n', '정도에 이르다\\n', '할 지경이다\\n', '결과에 이르다\\n', '관해서는\\n', '여러분\\n', '하고 있다\\n', '한 후\\n', '혼자\\n', '자기\\n', '자기집\\n', '자신\\n', '우에 종합한것과같이\\n', '총적으로 보면\\n', '총적으로 말하면\\n', '총적으로\\n', '대로 하다\\n', '으로서\\n', '참\\n', '그만이다\\n', '할 따름이다\\n', '쿵\\n', '탕탕\\n', '쾅쾅\\n', '둥둥\\n', '봐\\n', '봐라\\n', '아이야\\n', '아니\\n', '와아\\n', '응\\n', '아이\\n', '참나\\n', '년\\n', '월\\n', '일\\n', '령\\n', '영\\n', '일\\n', '이\\n', '삼\\n', '사\\n', '오\\n', '육\\n', '륙\\n', '칠\\n', '팔\\n', '구\\n', '이천육\\n', '이천칠\\n', '이천팔\\n', '이천구\\n', '하나\\n', '둘\\n', '셋\\n', '넷\\n', '다섯\\n', '여섯\\n', '일곱\\n', '여덟\\n', '아홉\\n', '령\\n', '영\\n', '수\\n', '분\\n', '님\\n', '번\\n', '꼭\\n', '층\\n', '더\\n', '여러\\n', '시\\n', '안']\n"
     ]
    }
   ],
   "source": [
    "with open('data/stopwords.txt') as f:\n",
    "    print(f.readlines(end='\\n'))"
   ]
  },
  {
   "cell_type": "code",
   "execution_count": null,
   "metadata": {},
   "outputs": [],
   "source": []
  }
 ],
 "metadata": {
  "kernelspec": {
   "display_name": "studypy312",
   "language": "python",
   "name": "python3"
  },
  "language_info": {
   "codemirror_mode": {
    "name": "ipython",
    "version": 3
   },
   "file_extension": ".py",
   "mimetype": "text/x-python",
   "name": "python",
   "nbconvert_exporter": "python",
   "pygments_lexer": "ipython3",
   "version": "3.12.7"
  }
 },
 "nbformat": 4,
 "nbformat_minor": 2
}
