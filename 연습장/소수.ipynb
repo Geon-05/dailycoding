{
 "cells": [
  {
   "cell_type": "code",
   "execution_count": null,
   "metadata": {},
   "outputs": [],
   "source": [
    "def solution(n):\n",
    "    answer = 0\n",
    "    num_list = []\n",
    "    for i in range(2,n+1):\n",
    "        num_list.append(i)\n",
    "    check = 2\n",
    "    while True:\n",
    "        answer += 1\n",
    "        for num in num_list:\n",
    "            if num % check == 0:\n",
    "                num_list.remove(num)\n",
    "        try:\n",
    "            check = num_list[0]\n",
    "        except:\n",
    "            break\n",
    "        print(num_list)\n",
    "    return answer\n",
    "\n",
    "solution(100000)"
   ]
  },
  {
   "cell_type": "code",
   "execution_count": null,
   "metadata": {},
   "outputs": [],
   "source": [
    "def solution(n):\n",
    "    answer = 0\n",
    "    num_list = list(range(2,n+1))\n",
    "    check = 2\n",
    "    while True:\n",
    "        answer += 1\n",
    "        for num in num_list:\n",
    "            if num % check == 0:\n",
    "                num_list.remove(num)\n",
    "        try:\n",
    "            check = num_list[0]\n",
    "        except:\n",
    "            break\n",
    "        print(num_list)\n",
    "    return answer\n",
    "\n",
    "solution(100000)"
   ]
  },
  {
   "cell_type": "code",
   "execution_count": null,
   "metadata": {},
   "outputs": [],
   "source": [
    "def solution(n):\n",
    "    answer = 0\n",
    "    num_list = list(range(2,n+1))\n",
    "    check = 2\n",
    "    while True:\n",
    "        answer += 1\n",
    "        if int(n**0.5) + 1 > num_list[-1]:\n",
    "            answer += len(num_list) -1\n",
    "            break\n",
    "        for num in num_list:\n",
    "            if num % check == 0:\n",
    "                num_list.remove(num)\n",
    "        try:\n",
    "            check = num_list[0]\n",
    "        except:\n",
    "            break\n",
    "    return answer\n",
    "\n",
    "solution(100000)"
   ]
  },
  {
   "cell_type": "code",
   "execution_count": null,
   "metadata": {},
   "outputs": [],
   "source": [
    "def solution(n):\n",
    "    p = [True] * (n + 1)\n",
    "    p[0] = p[1] = False\n",
    "\n",
    "    for i in range(2, int(n**0.5) + 1): \n",
    "        if p[i]:\n",
    "            for j in range(i * i, n + 1, i):\n",
    "                p[j] = False\n",
    "    return sum(p)\n",
    "\n",
    "print(solution(100000)) "
   ]
  },
  {
   "cell_type": "code",
   "execution_count": null,
   "metadata": {},
   "outputs": [],
   "source": [
    "def solution(n):\n",
    "    num=set(range(2,n+1))\n",
    "\n",
    "    for i in range(2,n+1):\n",
    "        if i in num:\n",
    "            num-=set(range(2*i,n+1,i))\n",
    "    return len(num)\n",
    "\n",
    "solution(1000000)"
   ]
  },
  {
   "cell_type": "code",
   "execution_count": null,
   "metadata": {},
   "outputs": [],
   "source": []
  }
 ],
 "metadata": {
  "kernelspec": {
   "display_name": ".venv",
   "language": "python",
   "name": "python3"
  },
  "language_info": {
   "codemirror_mode": {
    "name": "ipython",
    "version": 3
   },
   "file_extension": ".py",
   "mimetype": "text/x-python",
   "name": "python",
   "nbconvert_exporter": "python",
   "pygments_lexer": "ipython3",
   "version": "3.13.0"
  }
 },
 "nbformat": 4,
 "nbformat_minor": 2
}
