{
 "cells": [
  {
   "cell_type": "code",
   "execution_count": 10,
   "metadata": {},
   "outputs": [],
   "source": [
    "def divNumCheck(num):\n",
    "    tmp = num\n",
    "    check = 1\n",
    "    if num == 1:\n",
    "        return check\n",
    "    elif num % 2 == 0:\n",
    "        for i in range(2, num):\n",
    "            if i >= tmp:\n",
    "                break\n",
    "            else:\n",
    "                if num % i == 0:\n",
    "                    check += 1\n",
    "                    num = num / i\n",
    "                else:\n",
    "                    pass\n",
    "    else:\n",
    "        for i in range(3, num):\n",
    "            if i >= tmp:\n",
    "                break\n",
    "            else:\n",
    "                if num % i == 0:\n",
    "                    check += 1\n",
    "                    num = num / i\n",
    "                else:\n",
    "                    pass\n",
    "    return check + 1"
   ]
  },
  {
   "cell_type": "code",
   "execution_count": 20,
   "metadata": {},
   "outputs": [
    {
     "data": {
      "text/plain": [
       "21"
      ]
     },
     "execution_count": 20,
     "metadata": {},
     "output_type": "execute_result"
    }
   ],
   "source": [
    "def solution(number, limit, power):\n",
    "    def divNumCheck(num, limit, power):\n",
    "        tmp = num\n",
    "        check = 1\n",
    "        if num == 1:\n",
    "            return check\n",
    "        elif num % 2 == 0:\n",
    "            for i in range(2, num):\n",
    "                if i >= tmp:\n",
    "                    break\n",
    "                elif check >= limit:\n",
    "                    return power\n",
    "                else:\n",
    "                    if num % i == 0:\n",
    "                        check += 1\n",
    "                        num = num // i\n",
    "                    else:\n",
    "                        pass\n",
    "        else:\n",
    "            for i in range(3, num):\n",
    "                if i >= tmp:\n",
    "                    break\n",
    "                elif check >= limit:\n",
    "                    return power\n",
    "                else:\n",
    "                    if num % i == 0:\n",
    "                        check += 1\n",
    "                        num = num // i\n",
    "                    else:\n",
    "                        pass\n",
    "        return check + 1\n",
    "    answer = 0\n",
    "    \n",
    "    for i in range(1, number+1):\n",
    "        answer += divNumCheck(i, limit, power)\n",
    "    return answer\n",
    "\n",
    "solution(10, 3, 2)"
   ]
  },
  {
   "cell_type": "code",
   "execution_count": 16,
   "metadata": {},
   "outputs": [
    {
     "data": {
      "text/plain": [
       "27"
      ]
     },
     "execution_count": 16,
     "metadata": {},
     "output_type": "execute_result"
    }
   ],
   "source": [
    "solution(10, 3, 2)"
   ]
  },
  {
   "cell_type": "code",
   "execution_count": 6,
   "metadata": {},
   "outputs": [
    {
     "name": "stdout",
     "output_type": "stream",
     "text": [
      "1\n",
      "3\n",
      "5\n",
      "8\n",
      "10\n",
      "12\n",
      "14\n",
      "16\n",
      "19\n",
      "21\n",
      "1\n",
      "3\n",
      "5\n",
      "8\n",
      "10\n"
     ]
    },
    {
     "data": {
      "text/plain": [
       "10"
      ]
     },
     "execution_count": 6,
     "metadata": {},
     "output_type": "execute_result"
    }
   ],
   "source": [
    "def solution(number, limit, power):\n",
    "    def divNumCheck(num, limit, power):\n",
    "        tmp =num\n",
    "        div_num = 1\n",
    "        check = 0\n",
    "        if num == 1:\n",
    "            return 1\n",
    "        while num >= div_num:\n",
    "            if check >= limit:\n",
    "                break\n",
    "            if num % div_num == 0:\n",
    "                check += 1\n",
    "                num = num // div_num\n",
    "            div_num += 1\n",
    "        if check >= limit:\n",
    "            return power\n",
    "        if tmp == (num ** 2):\n",
    "            check += 1\n",
    "        return check\n",
    "    \n",
    "    answer = 0\n",
    "    \n",
    "    for i in range(1, number+1):\n",
    "        answer += divNumCheck(i, limit, power)\n",
    "        print(answer)\n",
    "    return answer\n",
    "\n",
    "solution(10, 3, 2)\n",
    "solution(5, 3, 2)"
   ]
  },
  {
   "cell_type": "code",
   "execution_count": null,
   "metadata": {},
   "outputs": [],
   "source": []
  }
 ],
 "metadata": {
  "kernelspec": {
   "display_name": "studypy310",
   "language": "python",
   "name": "python3"
  },
  "language_info": {
   "codemirror_mode": {
    "name": "ipython",
    "version": 3
   },
   "file_extension": ".py",
   "mimetype": "text/x-python",
   "name": "python",
   "nbconvert_exporter": "python",
   "pygments_lexer": "ipython3",
   "version": "3.10.15"
  }
 },
 "nbformat": 4,
 "nbformat_minor": 2
}
