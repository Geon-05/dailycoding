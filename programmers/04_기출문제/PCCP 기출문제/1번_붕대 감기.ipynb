{
 "cells": [
  {
   "cell_type": "code",
   "execution_count": null,
   "metadata": {},
   "outputs": [
    {
     "name": "stdout",
     "output_type": "stream",
     "text": [
      "time : 1, health : 30, health_time : 1\n",
      "time : 2, health : 30, health_time : 2\n",
      "time : 4, health : 21, health_time : 1\n",
      "time : 5, health : 22, health_time : 2\n",
      "time : 6, health : 23, health_time : 3\n",
      "time : 7, health : 24, health_time : 4\n",
      "time : 8, health : 30, health_time : 5\n",
      "time : 9, health : 30, health_time : 6\n"
     ]
    },
    {
     "data": {
      "text/plain": [
       "5"
      ]
     },
     "execution_count": 20,
     "metadata": {},
     "output_type": "execute_result"
    }
   ],
   "source": [
    "def solution(bandage, health, attacks):\n",
    "    basic_health = health\n",
    "    health_time = 0\n",
    "    attack_num = 0\n",
    "    \n",
    "    time = 0\n",
    "    last_time = attacks[-1][0]\n",
    "    while time <= last_time:\n",
    "        if time == attacks[attack_num][0]:\n",
    "            health -= attacks[attack_num][1]\n",
    "            if health <= 0:\n",
    "                return -1\n",
    "            attack_num += 1\n",
    "            health_time = 0\n",
    "            time += 1\n",
    "            continue\n",
    "        health_time += 1\n",
    "        if health_time % bandage[0] == 0 and health_time != 0:\n",
    "            health += bandage[2]\n",
    "        health += bandage[1]\n",
    "        if health > basic_health:\n",
    "            health = basic_health\n",
    "        time += 1\n",
    "    return health\n",
    "\n",
    "bandage = [5,1,5]\n",
    "health = 30\n",
    "attacks = [[2,10],[9,15],[10,5],[11,5]]\n",
    "solution(bandage, health, attacks)"
   ]
  },
  {
   "cell_type": "code",
   "execution_count": 2,
   "metadata": {},
   "outputs": [
    {
     "ename": "IndexError",
     "evalue": "list index out of range",
     "output_type": "error",
     "traceback": [
      "\u001b[0;31m---------------------------------------------------------------------------\u001b[0m",
      "\u001b[0;31mIndexError\u001b[0m                                Traceback (most recent call last)",
      "Cell \u001b[0;32mIn[2], line 4\u001b[0m\n\u001b[1;32m      2\u001b[0m health \u001b[38;5;241m=\u001b[39m \u001b[38;5;241m30\u001b[39m\n\u001b[1;32m      3\u001b[0m attacks \u001b[38;5;241m=\u001b[39m [[\u001b[38;5;241m2\u001b[39m,\u001b[38;5;241m10\u001b[39m],[\u001b[38;5;241m9\u001b[39m,\u001b[38;5;241m15\u001b[39m],[\u001b[38;5;241m10\u001b[39m,\u001b[38;5;241m5\u001b[39m],[\u001b[38;5;241m11\u001b[39m,\u001b[38;5;241m5\u001b[39m]]\n\u001b[0;32m----> 4\u001b[0m \u001b[43msolution\u001b[49m\u001b[43m(\u001b[49m\u001b[43mbandage\u001b[49m\u001b[43m,\u001b[49m\u001b[43m \u001b[49m\u001b[43mhealth\u001b[49m\u001b[43m,\u001b[49m\u001b[43m \u001b[49m\u001b[43mattacks\u001b[49m\u001b[43m)\u001b[49m\n",
      "Cell \u001b[0;32mIn[1], line 9\u001b[0m, in \u001b[0;36msolution\u001b[0;34m(bandage, health, attacks)\u001b[0m\n\u001b[1;32m      7\u001b[0m last_time \u001b[38;5;241m=\u001b[39m attacks[\u001b[38;5;241m-\u001b[39m\u001b[38;5;241m1\u001b[39m][\u001b[38;5;241m0\u001b[39m]\n\u001b[1;32m      8\u001b[0m \u001b[38;5;28;01mwhile\u001b[39;00m time \u001b[38;5;241m<\u001b[39m\u001b[38;5;241m=\u001b[39m last_time:\n\u001b[0;32m----> 9\u001b[0m     \u001b[38;5;28;01mif\u001b[39;00m time \u001b[38;5;241m==\u001b[39m \u001b[43mattacks\u001b[49m\u001b[43m[\u001b[49m\u001b[43mattack_num\u001b[49m\u001b[43m]\u001b[49m[\u001b[38;5;241m0\u001b[39m]:\n\u001b[1;32m     10\u001b[0m         health \u001b[38;5;241m-\u001b[39m\u001b[38;5;241m=\u001b[39m attacks[attack_num][\u001b[38;5;241m1\u001b[39m]\n\u001b[1;32m     11\u001b[0m         \u001b[38;5;28;01mif\u001b[39;00m health \u001b[38;5;241m<\u001b[39m\u001b[38;5;241m=\u001b[39m \u001b[38;5;241m0\u001b[39m:\n",
      "\u001b[0;31mIndexError\u001b[0m: list index out of range"
     ]
    }
   ],
   "source": [
    "bandage = [5,1,5]\n",
    "health = 30\n",
    "attacks = [[2,10],[9,15],[10,5],[11,5]]\n",
    "solution(bandage, health, attacks)"
   ]
  },
  {
   "cell_type": "code",
   "execution_count": null,
   "metadata": {},
   "outputs": [],
   "source": []
  }
 ],
 "metadata": {
  "kernelspec": {
   "display_name": "studypy310",
   "language": "python",
   "name": "python3"
  },
  "language_info": {
   "codemirror_mode": {
    "name": "ipython",
    "version": 3
   },
   "file_extension": ".py",
   "mimetype": "text/x-python",
   "name": "python",
   "nbconvert_exporter": "python",
   "pygments_lexer": "ipython3",
   "version": "3.10.15"
  }
 },
 "nbformat": 4,
 "nbformat_minor": 2
}
